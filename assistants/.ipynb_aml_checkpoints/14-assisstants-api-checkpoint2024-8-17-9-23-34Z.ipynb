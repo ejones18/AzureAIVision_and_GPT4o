{
  "cells": [
    {
      "cell_type": "code",
      "source": [
        "!pip install -r requirements.txt"
      ],
      "outputs": [
        {
          "output_type": "stream",
          "name": "stdout",
          "text": "Requirement already satisfied: openai==1.3.7 in /anaconda/envs/azureml_py38/lib/python3.9/site-packages (from -r requirements.txt (line 1)) (1.3.7)\nRequirement already satisfied: python-dotenv in /anaconda/envs/azureml_py38/lib/python3.9/site-packages (from -r requirements.txt (line 2)) (1.0.1)\nRequirement already satisfied: emoji in /anaconda/envs/azureml_py38/lib/python3.9/site-packages (from -r requirements.txt (line 3)) (2.12.1)\nRequirement already satisfied: azure-ai-textanalytics==5.2.0 in /anaconda/envs/azureml_py38/lib/python3.9/site-packages (from -r requirements.txt (line 4)) (5.2.0)\nRequirement already satisfied: httpx<1,>=0.23.0 in /anaconda/envs/azureml_py38/lib/python3.9/site-packages (from openai==1.3.7->-r requirements.txt (line 1)) (0.27.0)\nRequirement already satisfied: distro<2,>=1.7.0 in /anaconda/envs/azureml_py38/lib/python3.9/site-packages (from openai==1.3.7->-r requirements.txt (line 1)) (1.9.0)\nRequirement already satisfied: tqdm>4 in /anaconda/envs/azureml_py38/lib/python3.9/site-packages (from openai==1.3.7->-r requirements.txt (line 1)) (4.66.2)\nRequirement already satisfied: sniffio in /anaconda/envs/azureml_py38/lib/python3.9/site-packages (from openai==1.3.7->-r requirements.txt (line 1)) (1.3.1)\nRequirement already satisfied: pydantic<3,>=1.9.0 in /anaconda/envs/azureml_py38/lib/python3.9/site-packages (from openai==1.3.7->-r requirements.txt (line 1)) (1.10.15)\nRequirement already satisfied: typing-extensions<5,>=4.5 in /anaconda/envs/azureml_py38/lib/python3.9/site-packages (from openai==1.3.7->-r requirements.txt (line 1)) (4.12.2)\nRequirement already satisfied: anyio<4,>=3.5.0 in /anaconda/envs/azureml_py38/lib/python3.9/site-packages (from openai==1.3.7->-r requirements.txt (line 1)) (3.7.1)\nRequirement already satisfied: msrest>=0.7.0 in /anaconda/envs/azureml_py38/lib/python3.9/site-packages (from azure-ai-textanalytics==5.2.0->-r requirements.txt (line 4)) (0.7.1)\nRequirement already satisfied: azure-core<2.0.0,>=1.24.0 in /anaconda/envs/azureml_py38/lib/python3.9/site-packages (from azure-ai-textanalytics==5.2.0->-r requirements.txt (line 4)) (1.30.1)\nRequirement already satisfied: azure-common~=1.1 in /anaconda/envs/azureml_py38/lib/python3.9/site-packages (from azure-ai-textanalytics==5.2.0->-r requirements.txt (line 4)) (1.1.28)\nRequirement already satisfied: idna>=2.8 in /anaconda/envs/azureml_py38/lib/python3.9/site-packages (from anyio<4,>=3.5.0->openai==1.3.7->-r requirements.txt (line 1)) (3.7)\nRequirement already satisfied: exceptiongroup in /anaconda/envs/azureml_py38/lib/python3.9/site-packages (from anyio<4,>=3.5.0->openai==1.3.7->-r requirements.txt (line 1)) (1.2.1)\nRequirement already satisfied: six>=1.11.0 in /anaconda/envs/azureml_py38/lib/python3.9/site-packages (from azure-core<2.0.0,>=1.24.0->azure-ai-textanalytics==5.2.0->-r requirements.txt (line 4)) (1.16.0)\nRequirement already satisfied: requests>=2.21.0 in /anaconda/envs/azureml_py38/lib/python3.9/site-packages (from azure-core<2.0.0,>=1.24.0->azure-ai-textanalytics==5.2.0->-r requirements.txt (line 4)) (2.31.0)\nRequirement already satisfied: httpcore==1.* in /anaconda/envs/azureml_py38/lib/python3.9/site-packages (from httpx<1,>=0.23.0->openai==1.3.7->-r requirements.txt (line 1)) (1.0.5)\nRequirement already satisfied: certifi in /anaconda/envs/azureml_py38/lib/python3.9/site-packages (from httpx<1,>=0.23.0->openai==1.3.7->-r requirements.txt (line 1)) (2022.9.24)\nRequirement already satisfied: h11<0.15,>=0.13 in /anaconda/envs/azureml_py38/lib/python3.9/site-packages (from httpcore==1.*->httpx<1,>=0.23.0->openai==1.3.7->-r requirements.txt (line 1)) (0.14.0)\nRequirement already satisfied: isodate>=0.6.0 in /anaconda/envs/azureml_py38/lib/python3.9/site-packages (from msrest>=0.7.0->azure-ai-textanalytics==5.2.0->-r requirements.txt (line 4)) (0.6.1)\nRequirement already satisfied: requests-oauthlib>=0.5.0 in /anaconda/envs/azureml_py38/lib/python3.9/site-packages (from msrest>=0.7.0->azure-ai-textanalytics==5.2.0->-r requirements.txt (line 4)) (2.0.0)\nRequirement already satisfied: charset-normalizer<4,>=2 in /anaconda/envs/azureml_py38/lib/python3.9/site-packages (from requests>=2.21.0->azure-core<2.0.0,>=1.24.0->azure-ai-textanalytics==5.2.0->-r requirements.txt (line 4)) (3.3.2)\nRequirement already satisfied: urllib3<3,>=1.21.1 in /anaconda/envs/azureml_py38/lib/python3.9/site-packages (from requests>=2.21.0->azure-core<2.0.0,>=1.24.0->azure-ai-textanalytics==5.2.0->-r requirements.txt (line 4)) (1.26.18)\nRequirement already satisfied: oauthlib>=3.0.0 in /anaconda/envs/azureml_py38/lib/python3.9/site-packages (from requests-oauthlib>=0.5.0->msrest>=0.7.0->azure-ai-textanalytics==5.2.0->-r requirements.txt (line 4)) (3.2.2)\n"
        }
      ],
      "execution_count": 2,
      "metadata": {
        "jupyter": {
          "source_hidden": false,
          "outputs_hidden": false
        },
        "nteract": {
          "transient": {
            "deleting": false
          }
        }
      }
    },
    {
      "cell_type": "code",
      "source": [
        "import time\n",
        "import os\n",
        "from openai import AzureOpenAI\n",
        "from dotenv import load_dotenv\n",
        "\n",
        "# Set up Azure OpenAI\n",
        "load_dotenv(\"credentials (1).env\")\n",
        "deployment_name = \"gpt-35-turbo-16k\"\n",
        "\n",
        "# Create an OpenAI Azure client\n",
        "client = AzureOpenAI(\n",
        "    api_key=os.getenv(\"5730f831d7834af381c41ff62a3c3f30\"),#\"8b96d7ba6a31403089100421919c7962\",  #change to your API KEY Value\n",
        "    api_version=\"2024-02-15-preview\",\n",
        "    azure_endpoint =os.getenv(\"https://openai-us-sa.openai.azure.com/\") #change to your API ENDPOINT\n",
        "    )\n",
        "\n",
        "# Create an Asssitant with the code_interpreter tool\n",
        "assistant = client.beta.assistants.create(\n",
        "    name=\"Math Tutor\",\n",
        "    instructions=\"You are a personal math tutor. Write and run code to answer math questions.\",\n",
        "    tools=[{\"type\": \"code_interpreter\"}],\n",
        "    model=deployment_name,\n",
        ")\n",
        "\n",
        "# Create a Thread\n",
        "thread = client.beta.threads.create()\n",
        "\n",
        "# Create a Message\n",
        "message = client.beta.threads.messages.create(\n",
        "    thread_id=thread.id,\n",
        "    role=\"user\",\n",
        "    content=\"I need to solve the equation `3x + 11 = 14`. Can you help me?\",\n",
        ")\n",
        "\n",
        "# Create a Run\n",
        "run = client.beta.threads.runs.create(\n",
        "    thread_id=thread.id,\n",
        "    assistant_id=assistant.id,\n",
        "    instructions=\"Please address the user as Jane Doe. The user has a premium account.\",\n",
        ")\n",
        "\n",
        "# Check the status of a Run\n",
        "print(\"checking assistant status. \")\n",
        "while True:\n",
        "    # Retrieve a Run by Thread and Run id\n",
        "    run = client.beta.threads.runs.retrieve(thread_id=thread.id, run_id=run.id)\n",
        "\n",
        "    \n",
        "    if run.status == \"completed\":\n",
        "        # Get the messages for a thread\n",
        "        messages = client.beta.threads.messages.list(thread_id=thread.id)\n",
        "        # Print the messages\n",
        "        print(\"messages: \")\n",
        "        for message in messages:\n",
        "            assert message.content[0].type == \"text\"\n",
        "            print({\"role\": message.role, \"message\": message.content[0].text.value})\n",
        "        # Dispose of the assistant\n",
        "        client.beta.assistants.delete(assistant.id)\n",
        "        # Dispose of the thread\n",
        "        client.beta.threads.delete(thread.id)\n",
        "        \n",
        "        break\n",
        "    elif run.status == \"requires_action\":\n",
        "        # handle function calling and continue with the execution\n",
        "        pass\n",
        "    elif run.status == \"expired\" or run.status == \"failed\" or run.status == \"cancelled\":\n",
        "        # run failed, expired, or was cancelled\n",
        "        break    \n",
        "    else:\n",
        "        print(\"in progress...\")\n",
        "        time.sleep(5)"
      ],
      "outputs": [
        {
          "output_type": "error",
          "ename": "OpenAIError",
          "evalue": "Missing credentials. Please pass one of `api_key`, `azure_ad_token`, `azure_ad_token_provider`, or the `AZURE_OPENAI_API_KEY` or `AZURE_OPENAI_AD_TOKEN` environment variables.",
          "traceback": [
            "\u001b[0;31m---------------------------------------------------------------------------\u001b[0m",
            "\u001b[0;31mOpenAIError\u001b[0m                               Traceback (most recent call last)",
            "Cell \u001b[0;32mIn[11], line 11\u001b[0m\n\u001b[1;32m      8\u001b[0m deployment_name \u001b[38;5;241m=\u001b[39m \u001b[38;5;124m\"\u001b[39m\u001b[38;5;124mgpt-35-turbo-16k\u001b[39m\u001b[38;5;124m\"\u001b[39m\n\u001b[1;32m     10\u001b[0m \u001b[38;5;66;03m# Create an OpenAI Azure client\u001b[39;00m\n\u001b[0;32m---> 11\u001b[0m client \u001b[38;5;241m=\u001b[39m \u001b[43mAzureOpenAI\u001b[49m\u001b[43m(\u001b[49m\n\u001b[1;32m     12\u001b[0m \u001b[43m    \u001b[49m\u001b[43mapi_key\u001b[49m\u001b[38;5;241;43m=\u001b[39;49m\u001b[43mos\u001b[49m\u001b[38;5;241;43m.\u001b[39;49m\u001b[43mgetenv\u001b[49m\u001b[43m(\u001b[49m\u001b[38;5;124;43m\"\u001b[39;49m\u001b[38;5;124;43m5730f831d7834af381c41ff62a3c3f30\u001b[39;49m\u001b[38;5;124;43m\"\u001b[39;49m\u001b[43m)\u001b[49m\u001b[43m,\u001b[49m\u001b[38;5;66;43;03m#\"8b96d7ba6a31403089100421919c7962\",  #change to your API KEY Value\u001b[39;49;00m\n\u001b[1;32m     13\u001b[0m \u001b[43m    \u001b[49m\u001b[43mapi_version\u001b[49m\u001b[38;5;241;43m=\u001b[39;49m\u001b[38;5;124;43m\"\u001b[39;49m\u001b[38;5;124;43m2024-02-15-preview\u001b[39;49m\u001b[38;5;124;43m\"\u001b[39;49m\u001b[43m,\u001b[49m\n\u001b[1;32m     14\u001b[0m \u001b[43m    \u001b[49m\u001b[43mazure_endpoint\u001b[49m\u001b[43m \u001b[49m\u001b[38;5;241;43m=\u001b[39;49m\u001b[43mos\u001b[49m\u001b[38;5;241;43m.\u001b[39;49m\u001b[43mgetenv\u001b[49m\u001b[43m(\u001b[49m\u001b[38;5;124;43m\"\u001b[39;49m\u001b[38;5;124;43mhttps://openai-us-sa.openai.azure.com/\u001b[39;49m\u001b[38;5;124;43m\"\u001b[39;49m\u001b[43m)\u001b[49m\u001b[43m \u001b[49m\u001b[38;5;66;43;03m#change to your API ENDPOINT\u001b[39;49;00m\n\u001b[1;32m     15\u001b[0m \u001b[43m    \u001b[49m\u001b[43m)\u001b[49m\n\u001b[1;32m     17\u001b[0m \u001b[38;5;66;03m# Create an Asssitant with the code_interpreter tool\u001b[39;00m\n\u001b[1;32m     18\u001b[0m assistant \u001b[38;5;241m=\u001b[39m client\u001b[38;5;241m.\u001b[39mbeta\u001b[38;5;241m.\u001b[39massistants\u001b[38;5;241m.\u001b[39mcreate(\n\u001b[1;32m     19\u001b[0m     name\u001b[38;5;241m=\u001b[39m\u001b[38;5;124m\"\u001b[39m\u001b[38;5;124mMath Tutor\u001b[39m\u001b[38;5;124m\"\u001b[39m,\n\u001b[1;32m     20\u001b[0m     instructions\u001b[38;5;241m=\u001b[39m\u001b[38;5;124m\"\u001b[39m\u001b[38;5;124mYou are a personal math tutor. Write and run code to answer math questions.\u001b[39m\u001b[38;5;124m\"\u001b[39m,\n\u001b[1;32m     21\u001b[0m     tools\u001b[38;5;241m=\u001b[39m[{\u001b[38;5;124m\"\u001b[39m\u001b[38;5;124mtype\u001b[39m\u001b[38;5;124m\"\u001b[39m: \u001b[38;5;124m\"\u001b[39m\u001b[38;5;124mcode_interpreter\u001b[39m\u001b[38;5;124m\"\u001b[39m}],\n\u001b[1;32m     22\u001b[0m     model\u001b[38;5;241m=\u001b[39mdeployment_name,\n\u001b[1;32m     23\u001b[0m )\n",
            "File \u001b[0;32m/anaconda/envs/azureml_py38/lib/python3.9/site-packages/openai/lib/azure.py:166\u001b[0m, in \u001b[0;36mAzureOpenAI.__init__\u001b[0;34m(self, api_version, azure_endpoint, azure_deployment, api_key, azure_ad_token, azure_ad_token_provider, organization, base_url, timeout, max_retries, default_headers, default_query, http_client, _strict_response_validation)\u001b[0m\n\u001b[1;32m    163\u001b[0m     azure_ad_token \u001b[38;5;241m=\u001b[39m os\u001b[38;5;241m.\u001b[39menviron\u001b[38;5;241m.\u001b[39mget(\u001b[38;5;124m\"\u001b[39m\u001b[38;5;124mAZURE_OPENAI_AD_TOKEN\u001b[39m\u001b[38;5;124m\"\u001b[39m)\n\u001b[1;32m    165\u001b[0m \u001b[38;5;28;01mif\u001b[39;00m api_key \u001b[38;5;129;01mis\u001b[39;00m \u001b[38;5;28;01mNone\u001b[39;00m \u001b[38;5;129;01mand\u001b[39;00m azure_ad_token \u001b[38;5;129;01mis\u001b[39;00m \u001b[38;5;28;01mNone\u001b[39;00m \u001b[38;5;129;01mand\u001b[39;00m azure_ad_token_provider \u001b[38;5;129;01mis\u001b[39;00m \u001b[38;5;28;01mNone\u001b[39;00m:\n\u001b[0;32m--> 166\u001b[0m     \u001b[38;5;28;01mraise\u001b[39;00m OpenAIError(\n\u001b[1;32m    167\u001b[0m         \u001b[38;5;124m\"\u001b[39m\u001b[38;5;124mMissing credentials. Please pass one of `api_key`, `azure_ad_token`, `azure_ad_token_provider`, or the `AZURE_OPENAI_API_KEY` or `AZURE_OPENAI_AD_TOKEN` environment variables.\u001b[39m\u001b[38;5;124m\"\u001b[39m\n\u001b[1;32m    168\u001b[0m     )\n\u001b[1;32m    170\u001b[0m \u001b[38;5;28;01mif\u001b[39;00m api_version \u001b[38;5;129;01mis\u001b[39;00m \u001b[38;5;28;01mNone\u001b[39;00m:\n\u001b[1;32m    171\u001b[0m     api_version \u001b[38;5;241m=\u001b[39m os\u001b[38;5;241m.\u001b[39menviron\u001b[38;5;241m.\u001b[39mget(\u001b[38;5;124m\"\u001b[39m\u001b[38;5;124mOPENAI_API_VERSION\u001b[39m\u001b[38;5;124m\"\u001b[39m)\n",
            "\u001b[0;31mOpenAIError\u001b[0m: Missing credentials. Please pass one of `api_key`, `azure_ad_token`, `azure_ad_token_provider`, or the `AZURE_OPENAI_API_KEY` or `AZURE_OPENAI_AD_TOKEN` environment variables."
          ]
        }
      ],
      "execution_count": 11,
      "metadata": {
        "gather": {
          "logged": 1725895056744
        }
      }
    },
    {
      "cell_type": "code",
      "source": [],
      "outputs": [],
      "execution_count": null,
      "metadata": {
        "jupyter": {
          "source_hidden": false,
          "outputs_hidden": false
        },
        "nteract": {
          "transient": {
            "deleting": false
          }
        }
      }
    }
  ],
  "metadata": {
    "kernelspec": {
      "name": "python38-azureml",
      "language": "python",
      "display_name": "Python 3.8 - AzureML"
    },
    "language_info": {
      "name": "python",
      "version": "3.9.19",
      "mimetype": "text/x-python",
      "codemirror_mode": {
        "name": "ipython",
        "version": 3
      },
      "pygments_lexer": "ipython3",
      "nbconvert_exporter": "python",
      "file_extension": ".py"
    },
    "microsoft": {
      "ms_spell_check": {
        "ms_spell_check_language": "en"
      },
      "host": {
        "AzureML": {
          "notebookHasBeenCompleted": true
        }
      }
    },
    "kernel_info": {
      "name": "python38-azureml"
    },
    "nteract": {
      "version": "nteract-front-end@1.0.0"
    }
  },
  "nbformat": 4,
  "nbformat_minor": 2
}