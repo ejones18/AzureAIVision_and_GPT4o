{
  "cells": [
    {
      "cell_type": "code",
      "source": [
        "!pip install -r requirements.txt"
      ],
      "outputs": [
        {
          "output_type": "stream",
          "name": "stdout",
          "text": "Requirement already satisfied: openai==1.3.7 in /anaconda/envs/azureml_py38/lib/python3.9/site-packages (from -r requirements.txt (line 1)) (1.3.7)\nRequirement already satisfied: python-dotenv in /anaconda/envs/azureml_py38/lib/python3.9/site-packages (from -r requirements.txt (line 2)) (1.0.1)\nRequirement already satisfied: emoji in /anaconda/envs/azureml_py38/lib/python3.9/site-packages (from -r requirements.txt (line 3)) (2.12.1)\nRequirement already satisfied: azure-ai-textanalytics==5.2.0 in /anaconda/envs/azureml_py38/lib/python3.9/site-packages (from -r requirements.txt (line 4)) (5.2.0)\nRequirement already satisfied: httpx<1,>=0.23.0 in /anaconda/envs/azureml_py38/lib/python3.9/site-packages (from openai==1.3.7->-r requirements.txt (line 1)) (0.27.0)\nRequirement already satisfied: distro<2,>=1.7.0 in /anaconda/envs/azureml_py38/lib/python3.9/site-packages (from openai==1.3.7->-r requirements.txt (line 1)) (1.9.0)\nRequirement already satisfied: tqdm>4 in /anaconda/envs/azureml_py38/lib/python3.9/site-packages (from openai==1.3.7->-r requirements.txt (line 1)) (4.66.2)\nRequirement already satisfied: sniffio in /anaconda/envs/azureml_py38/lib/python3.9/site-packages (from openai==1.3.7->-r requirements.txt (line 1)) (1.3.1)\nRequirement already satisfied: pydantic<3,>=1.9.0 in /anaconda/envs/azureml_py38/lib/python3.9/site-packages (from openai==1.3.7->-r requirements.txt (line 1)) (1.10.15)\nRequirement already satisfied: typing-extensions<5,>=4.5 in /anaconda/envs/azureml_py38/lib/python3.9/site-packages (from openai==1.3.7->-r requirements.txt (line 1)) (4.12.2)\nRequirement already satisfied: anyio<4,>=3.5.0 in /anaconda/envs/azureml_py38/lib/python3.9/site-packages (from openai==1.3.7->-r requirements.txt (line 1)) (3.7.1)\nRequirement already satisfied: msrest>=0.7.0 in /anaconda/envs/azureml_py38/lib/python3.9/site-packages (from azure-ai-textanalytics==5.2.0->-r requirements.txt (line 4)) (0.7.1)\nRequirement already satisfied: azure-core<2.0.0,>=1.24.0 in /anaconda/envs/azureml_py38/lib/python3.9/site-packages (from azure-ai-textanalytics==5.2.0->-r requirements.txt (line 4)) (1.30.1)\nRequirement already satisfied: azure-common~=1.1 in /anaconda/envs/azureml_py38/lib/python3.9/site-packages (from azure-ai-textanalytics==5.2.0->-r requirements.txt (line 4)) (1.1.28)\nRequirement already satisfied: idna>=2.8 in /anaconda/envs/azureml_py38/lib/python3.9/site-packages (from anyio<4,>=3.5.0->openai==1.3.7->-r requirements.txt (line 1)) (3.7)\nRequirement already satisfied: exceptiongroup in /anaconda/envs/azureml_py38/lib/python3.9/site-packages (from anyio<4,>=3.5.0->openai==1.3.7->-r requirements.txt (line 1)) (1.2.1)\nRequirement already satisfied: six>=1.11.0 in /anaconda/envs/azureml_py38/lib/python3.9/site-packages (from azure-core<2.0.0,>=1.24.0->azure-ai-textanalytics==5.2.0->-r requirements.txt (line 4)) (1.16.0)\nRequirement already satisfied: requests>=2.21.0 in /anaconda/envs/azureml_py38/lib/python3.9/site-packages (from azure-core<2.0.0,>=1.24.0->azure-ai-textanalytics==5.2.0->-r requirements.txt (line 4)) (2.31.0)\nRequirement already satisfied: httpcore==1.* in /anaconda/envs/azureml_py38/lib/python3.9/site-packages (from httpx<1,>=0.23.0->openai==1.3.7->-r requirements.txt (line 1)) (1.0.5)\nRequirement already satisfied: certifi in /anaconda/envs/azureml_py38/lib/python3.9/site-packages (from httpx<1,>=0.23.0->openai==1.3.7->-r requirements.txt (line 1)) (2022.9.24)\nRequirement already satisfied: h11<0.15,>=0.13 in /anaconda/envs/azureml_py38/lib/python3.9/site-packages (from httpcore==1.*->httpx<1,>=0.23.0->openai==1.3.7->-r requirements.txt (line 1)) (0.14.0)\nRequirement already satisfied: isodate>=0.6.0 in /anaconda/envs/azureml_py38/lib/python3.9/site-packages (from msrest>=0.7.0->azure-ai-textanalytics==5.2.0->-r requirements.txt (line 4)) (0.6.1)\nRequirement already satisfied: requests-oauthlib>=0.5.0 in /anaconda/envs/azureml_py38/lib/python3.9/site-packages (from msrest>=0.7.0->azure-ai-textanalytics==5.2.0->-r requirements.txt (line 4)) (2.0.0)\nRequirement already satisfied: charset-normalizer<4,>=2 in /anaconda/envs/azureml_py38/lib/python3.9/site-packages (from requests>=2.21.0->azure-core<2.0.0,>=1.24.0->azure-ai-textanalytics==5.2.0->-r requirements.txt (line 4)) (3.3.2)\nRequirement already satisfied: urllib3<3,>=1.21.1 in /anaconda/envs/azureml_py38/lib/python3.9/site-packages (from requests>=2.21.0->azure-core<2.0.0,>=1.24.0->azure-ai-textanalytics==5.2.0->-r requirements.txt (line 4)) (1.26.18)\nRequirement already satisfied: oauthlib>=3.0.0 in /anaconda/envs/azureml_py38/lib/python3.9/site-packages (from requests-oauthlib>=0.5.0->msrest>=0.7.0->azure-ai-textanalytics==5.2.0->-r requirements.txt (line 4)) (3.2.2)\n"
        }
      ],
      "execution_count": 2,
      "metadata": {
        "jupyter": {
          "source_hidden": false,
          "outputs_hidden": false
        },
        "nteract": {
          "transient": {
            "deleting": false
          }
        }
      }
    },
    {
      "cell_type": "code",
      "source": [
        "import time\n",
        "import os\n",
        "from openai import AzureOpenAI\n",
        "from dotenv import load_dotenv\n",
        "\n",
        "# Set up Azure OpenAI\n",
        "load_dotenv(\"credentials.env\")\n",
        "deployment_name = \"gpt-4o-mini\"\n",
        "\n",
        "# Create an OpenAI Azure client\n",
        "client = AzureOpenAI(\n",
        "    api_key=os.getenv(\"a07bbb2fc82d4ddeaf76fdb72624e74b\"),  #change to your API KEY Value\n",
        "    api_version=\"2024-02-15-preview\",\n",
        "    azure_endpoint =os.getenv(\"https://openai-eastus-sa.openai.azure.com/\") #change to your API ENDPOINT\n",
        "    )\n",
        "\n",
        "# Create an Asssitant with the code_interpreter tool\n",
        "assistant = client.beta.assistants.create(\n",
        "    name=\"Math Tutor\",\n",
        "    instructions=\"You are a personal math tutor. Write and run code to answer math questions.\",\n",
        "    tools=[{\"type\": \"code_interpreter\"}],\n",
        "    model=deployment_name,\n",
        ")\n",
        "\n",
        "# Create a Thread\n",
        "thread = client.beta.threads.create()\n",
        "\n",
        "# Create a Message\n",
        "message = client.beta.threads.messages.create(\n",
        "    thread_id=thread.id,\n",
        "    role=\"user\",\n",
        "    content=\"I need to solve the equation `3x + 11 = 14`. Can you help me? What's my name?\",\n",
        ")\n",
        "\n",
        "# Create a Run\n",
        "run = client.beta.threads.runs.create(\n",
        "    thread_id=thread.id,\n",
        "    assistant_id=assistant.id,\n",
        "    instructions=\"Please address the user as Jane Doe. The user has a premium account.\",\n",
        ")\n",
        "\n",
        "# Check the status of a Run\n",
        "print(\"checking assistant status. \")\n",
        "while True:\n",
        "    # Retrieve a Run by Thread and Run id\n",
        "    run = client.beta.threads.runs.retrieve(thread_id=thread.id, run_id=run.id)\n",
        "\n",
        "    \n",
        "    if run.status == \"completed\":\n",
        "        # Get the messages for a thread\n",
        "        messages = client.beta.threads.messages.list(thread_id=thread.id)\n",
        "        # Print the messages\n",
        "        print(\"messages: \")\n",
        "        for message in messages:\n",
        "            assert message.content[0].type == \"text\"\n",
        "            print({\"role\": message.role, \"message\": message.content[0].text.value})\n",
        "        # Dispose of the assistant\n",
        "        client.beta.assistants.delete(assistant.id)\n",
        "        # Dispose of the thread\n",
        "        client.beta.threads.delete(thread.id)\n",
        "        \n",
        "        break\n",
        "    elif run.status == \"requires_action\":\n",
        "        # handle function calling and continue with the execution\n",
        "        pass\n",
        "    elif run.status == \"expired\" or run.status == \"failed\" or run.status == \"cancelled\":\n",
        "        # run failed, expired, or was cancelled\n",
        "        break    \n",
        "    else:\n",
        "        print(\"in progress...\")\n",
        "        time.sleep(5)"
      ],
      "outputs": [
        {
          "output_type": "stream",
          "name": "stdout",
          "text": "checking assistant status. \nin progress...\nin progress...\nmessages: \n{'role': 'assistant', 'message': 'The solution to the equation \\\\(3x + 11 = 14\\\\) is \\\\(x = 1.0\\\\). If you have any more questions or need further assistance, feel free to ask, Jane Doe!'}\n{'role': 'assistant', 'message': \"Of course, Jane Doe! Let's solve the equation \\\\(3x + 11 = 14\\\\).\\n\\n1. Subtract 11 from both sides:\\n   \\\\[\\n   3x = 14 - 11\\n   \\\\]\\n   \\n2. Simplify the right side:\\n   \\\\[\\n   3x = 3\\n   \\\\]\\n\\n3. Divide both sides by 3:\\n   \\\\[\\n   x = \\\\frac{3}{3}\\n   \\\\]\\n\\nNow, let's calculate the value of \\\\(x\\\\).\"}\n{'role': 'user', 'message': \"I need to solve the equation `3x + 11 = 14`. Can you help me? What's my name?\"}\n"
        }
      ],
      "execution_count": 1,
      "metadata": {
        "gather": {
          "logged": 1727248847931
        }
      }
    },
    {
      "cell_type": "code",
      "source": [],
      "outputs": [],
      "execution_count": null,
      "metadata": {
        "jupyter": {
          "source_hidden": false,
          "outputs_hidden": false
        },
        "nteract": {
          "transient": {
            "deleting": false
          }
        }
      }
    }
  ],
  "metadata": {
    "kernelspec": {
      "name": "python38-azureml",
      "language": "python",
      "display_name": "Python 3.8 - AzureML"
    },
    "language_info": {
      "name": "python",
      "version": "3.9.19",
      "mimetype": "text/x-python",
      "codemirror_mode": {
        "name": "ipython",
        "version": 3
      },
      "pygments_lexer": "ipython3",
      "nbconvert_exporter": "python",
      "file_extension": ".py"
    },
    "microsoft": {
      "ms_spell_check": {
        "ms_spell_check_language": "en"
      },
      "host": {
        "AzureML": {
          "notebookHasBeenCompleted": true
        }
      }
    },
    "kernel_info": {
      "name": "python38-azureml"
    },
    "nteract": {
      "version": "nteract-front-end@1.0.0"
    }
  },
  "nbformat": 4,
  "nbformat_minor": 2
}