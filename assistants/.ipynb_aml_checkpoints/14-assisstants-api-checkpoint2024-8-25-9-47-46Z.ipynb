{
  "cells": [
    {
      "cell_type": "code",
      "source": [
        "!pip install -r requirements.txt"
      ],
      "outputs": [],
      "execution_count": null,
      "metadata": {
        "jupyter": {
          "source_hidden": false,
          "outputs_hidden": false
        },
        "nteract": {
          "transient": {
            "deleting": false
          }
        }
      }
    },
    {
      "cell_type": "code",
      "source": [
        "import time\n",
        "import os\n",
        "from openai import AzureOpenAI\n",
        "from dotenv import load_dotenv\n",
        "\n",
        "# Set up Azure OpenAI\n",
        "load_dotenv(\"credentials.env\")\n",
        "deployment_name = \"gpt-4o-mini\"\n",
        "\n",
        "# Create an OpenAI Azure client\n",
        "client = AzureOpenAI(\n",
        "    api_key=os.getenv(\"\"),  #change to your API KEY Value\n",
        "    api_version=\"\",\n",
        "    azure_endpoint =os.getenv(\"\") #change to your API ENDPOINT\n",
        "    )\n",
        "\n",
        "# Create an Asssitant with the code_interpreter tool\n",
        "assistant = client.beta.assistants.create(\n",
        "    name=\"Math Tutor\",\n",
        "    instructions=\"You are a personal math tutor. Write and run code to answer math questions.\",\n",
        "    tools=[{\"type\": \"code_interpreter\"}],\n",
        "    model=deployment_name,\n",
        ")\n",
        "\n",
        "# Create a Thread\n",
        "thread = client.beta.threads.create()\n",
        "\n",
        "# Create a Message\n",
        "message = client.beta.threads.messages.create(\n",
        "    thread_id=thread.id,\n",
        "    role=\"user\",\n",
        "    content=\"I need to solve the equation `3x + 11 = 14`. Can you help me? What's my name?\",\n",
        ")\n",
        "\n",
        "# Create a Run\n",
        "run = client.beta.threads.runs.create(\n",
        "    thread_id=thread.id,\n",
        "    assistant_id=assistant.id,\n",
        "    instructions=\"Please address the user as Jane Doe. The user has a premium account.\",\n",
        ")\n",
        "\n",
        "# Check the status of a Run\n",
        "print(\"checking assistant status. \")\n",
        "while True:\n",
        "    # Retrieve a Run by Thread and Run id\n",
        "    run = client.beta.threads.runs.retrieve(thread_id=thread.id, run_id=run.id)\n",
        "\n",
        "    \n",
        "    if run.status == \"completed\":\n",
        "        # Get the messages for a thread\n",
        "        messages = client.beta.threads.messages.list(thread_id=thread.id)\n",
        "        # Print the messages\n",
        "        print(\"messages: \")\n",
        "        for message in messages:\n",
        "            assert message.content[0].type == \"text\"\n",
        "            print({\"role\": message.role, \"message\": message.content[0].text.value})\n",
        "        # Dispose of the assistant\n",
        "        client.beta.assistants.delete(assistant.id)\n",
        "        # Dispose of the thread\n",
        "        client.beta.threads.delete(thread.id)\n",
        "        \n",
        "        break\n",
        "    elif run.status == \"requires_action\":\n",
        "        # handle function calling and continue with the execution\n",
        "        pass\n",
        "    elif run.status == \"expired\" or run.status == \"failed\" or run.status == \"cancelled\":\n",
        "        # run failed, expired, or was cancelled\n",
        "        break    \n",
        "    else:\n",
        "        print(\"in progress...\")\n",
        "        time.sleep(5)"
      ],
      "outputs": [],
      "execution_count": null,
      "metadata": {
        "gather": {
          "logged": 1727248847931
        }
      }
    },
    {
      "cell_type": "code",
      "source": [],
      "outputs": [],
      "execution_count": null,
      "metadata": {
        "jupyter": {
          "source_hidden": false,
          "outputs_hidden": false
        },
        "nteract": {
          "transient": {
            "deleting": false
          }
        }
      }
    }
  ],
  "metadata": {
    "kernelspec": {
      "name": "python38-azureml",
      "language": "python",
      "display_name": "Python 3.8 - AzureML"
    },
    "language_info": {
      "name": "python",
      "version": "3.9.19",
      "mimetype": "text/x-python",
      "codemirror_mode": {
        "name": "ipython",
        "version": 3
      },
      "pygments_lexer": "ipython3",
      "nbconvert_exporter": "python",
      "file_extension": ".py"
    },
    "microsoft": {
      "ms_spell_check": {
        "ms_spell_check_language": "en"
      },
      "host": {
        "AzureML": {
          "notebookHasBeenCompleted": true
        }
      }
    },
    "kernel_info": {
      "name": "python38-azureml"
    },
    "nteract": {
      "version": "nteract-front-end@1.0.0"
    }
  },
  "nbformat": 4,
  "nbformat_minor": 2
}