{
  "cells": [
    {
      "cell_type": "markdown",
      "source": [
        "# GPT-4o model with Azure OpenAI\n",
        "<img src=\"https://github.com/retkowsky/images/blob/master/gpt4o.jpg?raw=true\">\n",
        "\n",
        "GPT-4o is the latest model from OpenAI. GPT-4o integrates text and images in a single model, enabling it to handle multiple data types simultaneously. This multimodal approach enhances accuracy and responsiveness in human-computer interactions. GPT-4o matches GPT-4 Turbo in English text and coding tasks while offering superior performance in non-English languages and vision tasks, setting new benchmarks for AI capabilities.\n",
        "\n",
        "> Documentation: https://learn.microsoft.com/en-us/azure/ai-services/openai/concepts/models#gpt-4o-and-gpt-4-turbo"
      ],
      "metadata": {},
      "id": "88a2e449"
    },
    {
      "cell_type": "code",
      "source": [
        "import base64\n",
        "import datetime\n",
        "import glob\n",
        "import openai\n",
        "import os\n",
        "import requests\n",
        "import sys\n",
        "\n",
        "from dotenv import load_dotenv\n",
        "from io import BytesIO\n",
        "from mimetypes import guess_type\n",
        "from openai import AzureOpenAI\n",
        "from PIL import Image"
      ],
      "outputs": [],
      "execution_count": null,
      "metadata": {
        "gather": {
          "logged": 1727209623854
        }
      },
      "id": "0c131515"
    },
    {
      "cell_type": "code",
      "source": [
        "def check_openai_version():\n",
        "    \"\"\"\n",
        "    Check Azure Open AI version\n",
        "    \"\"\"\n",
        "    installed_version = openai.__version__\n",
        "\n",
        "    try:\n",
        "        version_number = float(installed_version[:3])\n",
        "    except ValueError:\n",
        "        print(\"Invalid OpenAI version format\")\n",
        "        return\n",
        "\n",
        "    print(f\"Installed OpenAI version: {installed_version}\")\n",
        "\n",
        "    if version_number < 1.0:\n",
        "        print(\"[Warning] You should upgrade OpenAI to have version >= 1.0.0\")\n",
        "        print(\"To upgrade, run: %pip install openai --upgrade\")\n",
        "    else:\n",
        "        print(f\"[OK] OpenAI version {installed_version} is >= 1.0.0\")"
      ],
      "outputs": [],
      "execution_count": null,
      "metadata": {
        "gather": {
          "logged": 1727209624607
        }
      },
      "id": "565c144d"
    },
    {
      "cell_type": "code",
      "source": [
        "check_openai_version()"
      ],
      "outputs": [],
      "execution_count": null,
      "metadata": {
        "gather": {
          "logged": 1727209625893
        }
      },
      "id": "a7280c51"
    },
    {
      "cell_type": "code",
      "source": [
        "print(f\"Today is {datetime.datetime.today().strftime('%d-%b-%Y %H:%M:%S')}\")"
      ],
      "outputs": [],
      "execution_count": null,
      "metadata": {
        "gather": {
          "logged": 1727209626567
        }
      },
      "id": "2503ac97"
    },
    {
      "cell_type": "code",
      "source": [
        "print(f\"Python version: {sys.version}\")"
      ],
      "outputs": [],
      "execution_count": null,
      "metadata": {
        "gather": {
          "logged": 1727209627209
        }
      },
      "id": "3fdde62f"
    },
    {
      "cell_type": "code",
      "source": [
        "print(f\"OpenAI version: {openai.__version__}\")"
      ],
      "outputs": [],
      "execution_count": null,
      "metadata": {
        "gather": {
          "logged": 1727209627887
        }
      },
      "id": "6c932051"
    },
    {
      "cell_type": "markdown",
      "source": [
        "## 1 Settings"
      ],
      "metadata": {},
      "id": "ed0af473"
    },
    {
      "cell_type": "code",
      "source": [
        "load_dotenv(\"azure.env\")\n",
        "\n",
        "# Azure OpenAI\n",
        "api_type: str = \"azure\"\n",
        "api_key = os.getenv(\"OPENAI_API_KEY\")\n",
        "api_base = os.getenv(\"OPENAI_API_BASE\")\n",
        "\n",
        "api_version = \"2024-05-01-preview\""
      ],
      "outputs": [],
      "execution_count": null,
      "metadata": {
        "gather": {
          "logged": 1727209628523
        }
      },
      "id": "fa5aba3c"
    },
    {
      "cell_type": "code",
      "source": [
        "# This is the deployed name of your GPT-4o model from the Azure Open AI studio\n",
        "model = \"gpt-4o\""
      ],
      "outputs": [],
      "execution_count": null,
      "metadata": {
        "gather": {
          "logged": 1727209629235
        }
      },
      "id": "618fb4fe"
    },
    {
      "cell_type": "markdown",
      "source": [
        "## 2 Testing the model"
      ],
      "metadata": {},
      "id": "9d4a72ae"
    },
    {
      "cell_type": "code",
      "source": [
        "def gpt4o_text(prompt):\n",
        "    \"\"\"\n",
        "    Gpt-4o model\n",
        "    \"\"\"\n",
        "    client = AzureOpenAI(\n",
        "        api_key=api_key,\n",
        "        api_version=api_version,\n",
        "        base_url=f\"{api_base}/openai/deployments/{model}\",\n",
        "    )\n",
        "\n",
        "    response = client.chat.completions.create(\n",
        "        model=model,\n",
        "        messages=[\n",
        "            {\"role\": \"system\", \"content\": \"You are a helpful assistant.\"},\n",
        "            {\n",
        "                \"role\": \"user\",\n",
        "                \"content\": [\n",
        "                    {\"type\": \"text\", \"text\": prompt},\n",
        "                ],\n",
        "            },\n",
        "        ],\n",
        "        max_tokens=2000,\n",
        "        temperature=0.7,\n",
        "    )\n",
        "\n",
        "    return response"
      ],
      "outputs": [],
      "execution_count": null,
      "metadata": {
        "gather": {
          "logged": 1727209629851
        }
      },
      "id": "9c39f548"
    },
    {
      "cell_type": "code",
      "source": [
        "result = gpt4o_text(\"Who are you?\")\n",
        "print(result.choices[0].message.content)"
      ],
      "outputs": [],
      "execution_count": null,
      "metadata": {
        "gather": {
          "logged": 1727209630590
        }
      },
      "id": "9eca0e71"
    },
    {
      "cell_type": "code",
      "source": [
        "result = gpt4o_text(\"What is the capital of France?\")\n",
        "print(result.choices[0].message.content)"
      ],
      "outputs": [],
      "execution_count": null,
      "metadata": {
        "gather": {
          "logged": 1727209633042
        }
      },
      "id": "55b275bc"
    },
    {
      "cell_type": "code",
      "source": [
        "result = gpt4o_text(\"What is an ARMA model?\")\n",
        "print(result.choices[0].message.content)"
      ],
      "outputs": [],
      "execution_count": null,
      "metadata": {
        "gather": {
          "logged": 1727209636998
        }
      },
      "id": "dfe5cd19"
    },
    {
      "cell_type": "markdown",
      "source": [
        "## 3 Using an url image"
      ],
      "metadata": {},
      "id": "3a3d17e3"
    },
    {
      "cell_type": "code",
      "source": [
        "def gpt4o_url(image_url, prompt):\n",
        "    \"\"\"\n",
        "    Gpt-4o model using image url\n",
        "    \"\"\"\n",
        "    client = AzureOpenAI(\n",
        "        api_key=api_key,\n",
        "        api_version=api_version,\n",
        "        base_url=f\"{api_base}/openai/deployments/{model}\",\n",
        "    )\n",
        "\n",
        "    response = client.chat.completions.create(\n",
        "        model=model,\n",
        "        messages=[\n",
        "            {\n",
        "                \"role\": \"system\",\n",
        "                \"content\": \"You are a helpful assistant to analyse images.\",\n",
        "            },\n",
        "            {\n",
        "                \"role\": \"user\",\n",
        "                \"content\": [\n",
        "                    {\"type\": \"text\", \"text\": prompt},\n",
        "                    {\"type\": \"image_url\", \"image_url\": {\"url\": image_url}},\n",
        "                ],\n",
        "            },\n",
        "        ],\n",
        "        max_tokens=2000,\n",
        "        temperature=0.0,\n",
        "    )\n",
        "\n",
        "    return response"
      ],
      "outputs": [],
      "execution_count": null,
      "metadata": {
        "gather": {
          "logged": 1727209637392
        }
      },
      "id": "cdde0d8e"
    },
    {
      "cell_type": "code",
      "source": [
        "image_url = \"https://github.com/retkowsky/images/blob/master/jo.png?raw=true\""
      ],
      "outputs": [],
      "execution_count": null,
      "metadata": {
        "gather": {
          "logged": 1727209637790
        }
      },
      "id": "bdb0d788"
    },
    {
      "cell_type": "code",
      "source": [
        "response = requests.get(image_url)\n",
        "img = Image.open(BytesIO(response.content))\n",
        "img"
      ],
      "outputs": [],
      "execution_count": null,
      "metadata": {
        "gather": {
          "logged": 1727209639346
        }
      },
      "id": "baa79d51"
    },
    {
      "cell_type": "code",
      "source": [
        "result = gpt4o_url(image_url, \"Analyse this image\")\n",
        "\n",
        "print(result.choices[0].message.content)"
      ],
      "outputs": [],
      "execution_count": null,
      "metadata": {
        "gather": {
          "logged": 1727209641561
        }
      },
      "id": "ff107375"
    },
    {
      "cell_type": "markdown",
      "source": [
        "## 4 Using an image file"
      ],
      "metadata": {},
      "id": "aa86d252"
    },
    {
      "cell_type": "code",
      "source": [
        "def image_view(image_file):\n",
        "    \"\"\"\n",
        "    View image using PIL\n",
        "    \"\"\"\n",
        "    if not os.path.exists(image_file):\n",
        "        print(f\"[Error] Image file {image_file} does not exist.\")\n",
        "        return None\n",
        "\n",
        "    else:\n",
        "        print(image_file)\n",
        "        img = Image.open(image_file)\n",
        "        display(img)"
      ],
      "outputs": [],
      "execution_count": null,
      "metadata": {
        "gather": {
          "logged": 1727209641971
        }
      },
      "id": "9d0c7aee"
    },
    {
      "cell_type": "code",
      "source": [
        "def local_image_to_data_url(image_path):\n",
        "    \"\"\"\n",
        "    Get the url of a local image\n",
        "    \"\"\"\n",
        "    mime_type, _ = guess_type(image_path)\n",
        "\n",
        "    if mime_type is None:\n",
        "        mime_type = \"application/octet-stream\"\n",
        "\n",
        "    with open(image_path, \"rb\") as image_file:\n",
        "        base64_encoded_data = base64.b64encode(image_file.read()).decode(\"utf-8\")\n",
        "\n",
        "    return f\"data:{mime_type};base64,{base64_encoded_data}\""
      ],
      "outputs": [],
      "execution_count": null,
      "metadata": {
        "gather": {
          "logged": 1727209642368
        }
      },
      "id": "fa6738c4"
    },
    {
      "cell_type": "code",
      "source": [
        "def gpt4o_imagefile(image_file, prompt):\n",
        "    \"\"\"\n",
        "    Gpt-4o model\n",
        "    \"\"\"\n",
        "    client = AzureOpenAI(\n",
        "        api_key=api_key,\n",
        "        api_version=api_version,\n",
        "        base_url=f\"{api_base}/openai/deployments/{model}\",\n",
        "    )\n",
        "\n",
        "    response = client.chat.completions.create(\n",
        "        model=model,\n",
        "        messages=[\n",
        "            {\n",
        "                \"role\": \"system\",\n",
        "                \"content\": \"You are a helpful assistant to analyse images.\",\n",
        "            },\n",
        "            {\n",
        "                \"role\": \"user\",\n",
        "                \"content\": [\n",
        "                    {\"type\": \"text\", \"text\": prompt},\n",
        "                    {\n",
        "                        \"type\": \"image_url\",\n",
        "                        \"image_url\": {\"url\": local_image_to_data_url(image_file)},\n",
        "                    },\n",
        "                ],\n",
        "            },\n",
        "        ],\n",
        "        max_tokens=2000,\n",
        "        temperature=0.0,\n",
        "    )\n",
        "\n",
        "    return response"
      ],
      "outputs": [],
      "execution_count": null,
      "metadata": {
        "gather": {
          "logged": 1727209642744
        }
      },
      "id": "6de648a3"
    },
    {
      "cell_type": "markdown",
      "source": [
        "### Example 1"
      ],
      "metadata": {},
      "id": "623a8e94"
    },
    {
      "cell_type": "code",
      "source": [
        "image_file = \"image1.jpg\"\n",
        "\n",
        "image_view(image_file)"
      ],
      "outputs": [],
      "execution_count": null,
      "metadata": {
        "gather": {
          "logged": 1727209644088
        }
      },
      "id": "029c2bc4"
    },
    {
      "cell_type": "code",
      "source": [
        "result = gpt4o_imagefile(\n",
        "    image_file, \"Extract the main article, its brand and its color.\"\n",
        ")\n",
        "print(result.choices[0].message.content)"
      ],
      "outputs": [],
      "execution_count": null,
      "metadata": {
        "gather": {
          "logged": 1727209644465
        }
      },
      "id": "839cf512"
    },
    {
      "cell_type": "code",
      "source": [
        "context = \"\"\" \n",
        "You are a fashion expert, familiar with identifying features of fashion articles from images.\n",
        "A user uploads an image and asks you to describe one particular piece in the shot: jacket, shoes, pants, \\\n",
        "watches, etc.\n",
        "\"\"\"\n",
        "\n",
        "prompt = \"\"\"\n",
        "You respond with your analysis of the following fields:\n",
        "\n",
        "1. ITEM'S TYPE: Identify if it's a top, bottom, dress, outerwear, footwear, bag, jewelry...\n",
        "2. BRAND: identity the brand of the item.\n",
        "3. COLOR: Note the main color(s) and any secondary colors.\n",
        "4. PATTERN: Identify any visible patterns such as stripes, florals, animal print, or geometric designs.\\\n",
        "Feel free to use any other patterns here.\n",
        "5. MATERIAL: Best guess at the material that the item is made from.\n",
        "6. FEATURES: Note any unique details or embellishments, like embroidery, sequins, studs, fringes, buttons,\n",
        "zippers...\n",
        "7. ITEM TYPE SPECIFIC: For each type of item, feel free to add any additional descriptions that are relevant \\\n",
        "to help describe the item. For example, for a jacket you can include the neck and sleeve design, plus the length.\n",
        "8. MISC.: Anything else important that you notice.\n",
        "9. SIZE: Print the size of the item if you get it from the image.\n",
        "10. ITEM SUMMARY: Write a one line summary for this item.\n",
        "11. ITEM CLASSIFICATION: Classify this item into CLOTHES, BAG, SHOES, WATCH or OTHERS.\n",
        "12. ITEM TAGS: Generate 10 tags to describe this item. Each tags should be separated with a comma.\n",
        "13. STORIES: Write multiple stories about this product in 5 lines.\n",
        "14. TWEETER PUBLICATION: Write a tweeter ad for this item with some hashtags and emojis.\n",
        "15. ECOMMERCE AD: Generate an item description for a publication on a ecommerce website with a selling message.\n",
        "16. FRENCH ECOMMERCE AD: Generate an item description in French for a publication on a ecommerce website with \\\n",
        "a selling message.\n",
        "\n",
        "The output should be a numbered bulleted list. Just print an empty line between each items starting at item 12.\n",
        "\"\"\"\n",
        "\n",
        "retailprompt = context + prompt"
      ],
      "outputs": [],
      "execution_count": null,
      "metadata": {
        "gather": {
          "logged": 1727209644878
        }
      },
      "id": "95293b81"
    },
    {
      "cell_type": "code",
      "source": [
        "result = gpt4o_imagefile(image_file, retailprompt)\n",
        "print(result.choices[0].message.content)"
      ],
      "outputs": [],
      "execution_count": null,
      "metadata": {
        "gather": {
          "logged": 1727209650224
        }
      },
      "id": "34ba2037"
    },
    {
      "cell_type": "markdown",
      "source": [
        "### Example 2"
      ],
      "metadata": {},
      "id": "388501b6"
    },
    {
      "cell_type": "code",
      "source": [
        "image_file = \"image2.jpg\"\n",
        "\n",
        "image_view(image_file)"
      ],
      "outputs": [],
      "execution_count": null,
      "metadata": {
        "gather": {
          "logged": 1727209651214
        }
      },
      "id": "9c4b4cc5"
    },
    {
      "cell_type": "code",
      "source": [
        "result = gpt4o_imagefile(image_file, retailprompt)\n",
        "print(result.choices[0].message.content)"
      ],
      "outputs": [],
      "execution_count": null,
      "metadata": {
        "gather": {
          "logged": 1727209659269
        }
      },
      "id": "414252c8"
    },
    {
      "cell_type": "markdown",
      "source": [
        "### Example 3"
      ],
      "metadata": {},
      "id": "dcc85cb9"
    },
    {
      "cell_type": "code",
      "source": [
        "image_file = \"image3.png\"\n",
        "\n",
        "image_view(image_file)"
      ],
      "outputs": [],
      "execution_count": null,
      "metadata": {
        "gather": {
          "logged": 1727209660843
        }
      },
      "id": "26cb74a9"
    },
    {
      "cell_type": "code",
      "source": [
        "context = \"\"\"\n",
        "You are a plant and flowers expert, familiar with identifying plants and flowers from images.\n",
        "A user uploads an image and asks you to describe one particular piece in the shot: flowers, plants...\n",
        "\"\"\"\n",
        "\n",
        "prompt = \"\"\"\n",
        "You respond with your analysis of the following fields:\n",
        "\n",
        "1. ITEM'S TYPE: Identify the plant species.\n",
        "2. COLOR: Note the main color(s) and any secondary colors of the plant.\n",
        "3. COUNTRIES: Identify the country where this plant came from.\n",
        "4. WATER: Identify the water preferences of this plant.\n",
        "5. SUN: Identify the light preference of this plant.\n",
        "6. TEMPERATURE: Identify the best temperature for this plant.\n",
        "7. FERTILIZATION: What about fertilization?\n",
        "8. DISEASE: What are the main diseases for this plant?\n",
        "9. SOIL: What is the best soil?\n",
        "10. SOIL PH: What is the best soil PH?\n",
        "11. FLOWERING: What is the flowering period?\n",
        "12. TOXICITY: What is the toxicity?\n",
        "13. ITEM TYPE SPECIFIC: For each type of item, feel free to add any additional descriptions that are relevant \\\n",
        "to help describe the item.\n",
        "14. MISC.: Anything else important that you notice about the plant.\n",
        "15. SIZE: What is the usual size of this plant?\n",
        "16. ITEM SUMMARY: Write a one-line summary for this item.\n",
        "17. ITEM CLASSIFICATION: Classify this item into \"plant for beginners\", \"plant that needs attention\", \\\n",
        "\"plant for experts\".\n",
        "18. ITEM TAGS: Generate 10 tags to describe this plant. Each tag should be separated with a comma.\n",
        "19. STORIES: Write multiple stories about this plant in 5 lines.\n",
        "20. TWEETER PUBLICATION: Write a tweeter ad for this plant with some hashtags and emojis.\n",
        "21. ECOMMERCE AD: Generate a plant description for a publication on an ecommerce website with a selling message.\n",
        "22. FRENCH ECOMMERCE AD: Generate a plant description in French for a publication on an ecommerce website with \\\n",
        "a selling message.\n",
        "\n",
        "The output should be a numbered bulleted list.\n",
        "\"\"\"\n",
        "\n",
        "flower_prompt = context + prompt"
      ],
      "outputs": [],
      "execution_count": null,
      "metadata": {
        "gather": {
          "logged": 1727209661456
        }
      },
      "id": "c2b61f3e"
    },
    {
      "cell_type": "code",
      "source": [
        "result = gpt4o_imagefile(image_file, flower_prompt)\n",
        "print(result.choices[0].message.content)"
      ],
      "outputs": [],
      "execution_count": null,
      "metadata": {
        "gather": {
          "logged": 1727209669794
        }
      },
      "id": "3609777b"
    },
    {
      "cell_type": "code",
      "source": [
        "result = gpt4o_imagefile(image_file, flower_prompt + \" Print all the results in French\")\n",
        "print(result.choices[0].message.content)"
      ],
      "outputs": [],
      "execution_count": null,
      "metadata": {
        "gather": {
          "logged": 1727209681400
        }
      },
      "id": "91cbf7eb"
    },
    {
      "cell_type": "markdown",
      "source": [
        "### Example 4"
      ],
      "metadata": {},
      "id": "8c27970c"
    },
    {
      "cell_type": "code",
      "source": [
        "image_file = \"image4.jpg\"\n",
        "\n",
        "image_view(image_file)"
      ],
      "outputs": [],
      "execution_count": null,
      "metadata": {
        "gather": {
          "logged": 1727209682099
        }
      },
      "id": "7cbd9c0a"
    },
    {
      "cell_type": "code",
      "source": [
        "result = gpt4o_imagefile(\n",
        "    image_file, \"Get the name, dob and the expiration date into a json file format\"\n",
        ")\n",
        "\n",
        "print(result.choices[0].message.content)"
      ],
      "outputs": [],
      "execution_count": null,
      "metadata": {
        "gather": {
          "logged": 1727209683225
        }
      },
      "id": "a51f6408"
    },
    {
      "cell_type": "code",
      "source": [
        "now = datetime.datetime.now()\n",
        "current_month = now.strftime(\"%B\")\n",
        "current_year = now.strftime(\"%Y\")\n",
        "\n",
        "result = gpt4o_imagefile(\n",
        "    image_file, f\"We are in {current_month} {current_year}. What is the age of Gisèle?\"\n",
        ")\n",
        "\n",
        "print(result.choices[0].message.content)"
      ],
      "outputs": [],
      "execution_count": null,
      "metadata": {
        "gather": {
          "logged": 1727209777525
        }
      },
      "id": "d656f087"
    },
    {
      "cell_type": "code",
      "source": [
        "result = gpt4o_imagefile(image_file, \"What is the country?\")\n",
        "\n",
        "print(result.choices[0].message.content)"
      ],
      "outputs": [],
      "execution_count": null,
      "metadata": {
        "gather": {
          "logged": 1727209778639
        }
      },
      "id": "942c0508"
    },
    {
      "cell_type": "code",
      "source": [
        "result = gpt4o_imagefile(\n",
        "    image_file, \"Classify this into PASSPORT, DRIVER LICENCE, ID, TRANSPORTATION CARD\"\n",
        ")\n",
        "\n",
        "print(result.choices[0].message.content)"
      ],
      "outputs": [],
      "execution_count": null,
      "metadata": {
        "gather": {
          "logged": 1727209779937
        }
      },
      "id": "ba68deb8"
    },
    {
      "cell_type": "markdown",
      "source": [
        "### Example 5"
      ],
      "metadata": {},
      "id": "5f600e23"
    },
    {
      "cell_type": "code",
      "source": [
        "image_file = \"image5.jpg\"\n",
        "\n",
        "image_view(image_file)"
      ],
      "outputs": [],
      "execution_count": null,
      "metadata": {
        "gather": {
          "logged": 1727209782142
        }
      },
      "id": "36d1cd68"
    },
    {
      "cell_type": "code",
      "source": [
        "result = gpt4o_imagefile(image_file, \"What is the name and the email?\")\n",
        "\n",
        "print(result.choices[0].message.content)"
      ],
      "outputs": [],
      "execution_count": null,
      "metadata": {
        "gather": {
          "logged": 1727209782591
        }
      },
      "id": "f1ec0a21"
    },
    {
      "cell_type": "markdown",
      "source": [
        "### Example 6"
      ],
      "metadata": {},
      "id": "f4b0c43f"
    },
    {
      "cell_type": "code",
      "source": [
        "image_file = \"image6.png\"\n",
        "\n",
        "image_view(image_file)"
      ],
      "outputs": [],
      "execution_count": null,
      "metadata": {
        "gather": {
          "logged": 1727209783708
        }
      },
      "id": "f433bf1b"
    },
    {
      "cell_type": "code",
      "source": [
        "result = gpt4o_imagefile(\n",
        "    image_file, \"What is the time and the percentage of available memory?\"\n",
        ")\n",
        "\n",
        "print(result.choices[0].message.content)"
      ],
      "outputs": [],
      "execution_count": null,
      "metadata": {
        "gather": {
          "logged": 1727209784343
        }
      },
      "id": "4bbb12dc"
    },
    {
      "cell_type": "code",
      "source": [
        "result = gpt4o_imagefile(\n",
        "    image_file, \"Any rain during the week?\")\n",
        "print(result.choices[0].message.content)"
      ],
      "outputs": [],
      "execution_count": null,
      "metadata": {
        "gather": {
          "logged": 1727209784972
        }
      },
      "id": "bee6a2e7"
    },
    {
      "cell_type": "markdown",
      "source": [
        "### Example 7"
      ],
      "metadata": {},
      "id": "7db9e23c"
    },
    {
      "cell_type": "code",
      "source": [
        "image_file = \"image7.jpg\"\n",
        "\n",
        "image_view(image_file)"
      ],
      "outputs": [],
      "execution_count": null,
      "metadata": {
        "gather": {
          "logged": 1727209785517
        }
      },
      "id": "918244f7"
    },
    {
      "cell_type": "code",
      "source": [
        "result = gpt4o_imagefile(image_file, \"Describe this\")\n",
        "\n",
        "print(result.choices[0].message.content)"
      ],
      "outputs": [],
      "execution_count": null,
      "metadata": {
        "gather": {
          "logged": 1727209788131
        }
      },
      "id": "6ed87aa8"
    },
    {
      "cell_type": "code",
      "source": [
        "result = gpt4o_imagefile(\n",
        "    image_file, \"You are a financial analyst. What is your report on this stock?\"\n",
        ")\n",
        "\n",
        "print(result.choices[0].message.content)"
      ],
      "outputs": [],
      "execution_count": null,
      "metadata": {
        "gather": {
          "logged": 1727209795523
        }
      },
      "id": "fc6b2457"
    },
    {
      "cell_type": "markdown",
      "source": [
        "### Example 8"
      ],
      "metadata": {},
      "id": "6a6dc936"
    },
    {
      "cell_type": "code",
      "source": [
        "image_file = \"image8.png\"\n",
        "\n",
        "image_view(image_file)"
      ],
      "outputs": [],
      "execution_count": null,
      "metadata": {
        "gather": {
          "logged": 1727209796035
        }
      },
      "id": "d5892671"
    },
    {
      "cell_type": "code",
      "source": [
        "result = gpt4o_imagefile(image_file, \"Describe this architecture\")\n",
        "\n",
        "print(result.choices[0].message.content)"
      ],
      "outputs": [],
      "execution_count": null,
      "metadata": {
        "gather": {
          "logged": 1727209799606
        }
      },
      "id": "99c273b9"
    },
    {
      "cell_type": "code",
      "source": [
        "result = gpt4o_imagefile(\n",
        "    image_file,\n",
        "    \"List the Azure technologies I need to provision into my Azure subscription.\",\n",
        ")\n",
        "\n",
        "print(result.choices[0].message.content)"
      ],
      "outputs": [],
      "execution_count": null,
      "metadata": {
        "gather": {
          "logged": 1727209802887
        }
      },
      "id": "6ae73a2d"
    },
    {
      "cell_type": "markdown",
      "source": [
        "### Image 9"
      ],
      "metadata": {},
      "id": "33c544b8"
    },
    {
      "cell_type": "code",
      "source": [
        "image_file = \"image9.jpg\"\n",
        "\n",
        "image_view(image_file)"
      ],
      "outputs": [],
      "execution_count": null,
      "metadata": {
        "gather": {
          "logged": 1727209803428
        }
      },
      "id": "f31080e3"
    },
    {
      "cell_type": "code",
      "source": [
        "result = gpt4o_imagefile(image_file, \"What is the dimension of the CB line?\")\n",
        "\n",
        "print(result.choices[0].message.content)"
      ],
      "outputs": [],
      "execution_count": null,
      "metadata": {
        "gather": {
          "logged": 1727209806594
        }
      },
      "id": "781bb86a"
    },
    {
      "cell_type": "code",
      "source": [
        "result = gpt4o_imagefile(image_file, \"What is the angle between AC and CB\")\n",
        "print(result.choices[0].message.content)"
      ],
      "outputs": [],
      "execution_count": null,
      "metadata": {
        "gather": {
          "logged": 1727209807817
        }
      },
      "id": "3bb5deeb"
    },
    {
      "cell_type": "markdown",
      "source": [
        "### Image 10"
      ],
      "metadata": {},
      "id": "8f5a2bee"
    },
    {
      "cell_type": "code",
      "source": [
        "image_file = \"image10.png\"\n",
        "\n",
        "image_view(image_file)"
      ],
      "outputs": [],
      "execution_count": null,
      "metadata": {
        "gather": {
          "logged": 1727209808520
        }
      },
      "id": "540748ce"
    },
    {
      "cell_type": "code",
      "source": [
        "result = gpt4o_imagefile(image_file, \"What's wrong here?\")\n",
        "\n",
        "print(result.choices[0].message.content)"
      ],
      "outputs": [],
      "execution_count": null,
      "metadata": {
        "gather": {
          "logged": 1727209809455
        }
      },
      "id": "cc2a96a8"
    },
    {
      "cell_type": "markdown",
      "source": [
        "### Image 11"
      ],
      "metadata": {},
      "id": "6cafce5d"
    },
    {
      "cell_type": "code",
      "source": [
        "image_file = \"image11.jpg\"\n",
        "\n",
        "image_view(image_file)"
      ],
      "outputs": [],
      "execution_count": null,
      "metadata": {
        "gather": {
          "logged": 1727209810553
        }
      },
      "id": "65dea5d7"
    },
    {
      "cell_type": "code",
      "source": [
        "prompt = \"Classify this document into 'Driver licence', 'Passport', 'European Accident form', 'Others'\"\n",
        "\n",
        "result = gpt4o_imagefile(image_file, prompt)\n",
        "print(result.choices[0].message.content)"
      ],
      "outputs": [],
      "execution_count": null,
      "metadata": {
        "gather": {
          "logged": 1727209812573
        }
      },
      "id": "c1368188"
    },
    {
      "cell_type": "code",
      "source": [
        "prompt = \"What is the language used in this document?\"\n",
        "\n",
        "result = gpt4o_imagefile(image_file, prompt)\n",
        "print(result.choices[0].message.content)"
      ],
      "outputs": [],
      "execution_count": null,
      "metadata": {
        "gather": {
          "logged": 1727209815587
        }
      },
      "id": "8fffce21"
    },
    {
      "cell_type": "code",
      "source": [
        "prompt = \"Generate a summary.\"\n",
        "\n",
        "result = gpt4o_imagefile(image_file, prompt)\n",
        "print(result.choices[0].message.content)"
      ],
      "outputs": [],
      "execution_count": null,
      "metadata": {
        "gather": {
          "logged": 1727209823226
        }
      },
      "id": "674d42ff"
    },
    {
      "cell_type": "code",
      "source": [
        "prompt = \"What are the names, cars models of vehicles A and B? Print the results in a json file format.\"\n",
        "\n",
        "result = gpt4o_imagefile(image_file, prompt)\n",
        "print(result.choices[0].message.content)"
      ],
      "outputs": [],
      "execution_count": null,
      "metadata": {
        "gather": {
          "logged": 1727209826425
        }
      },
      "id": "2c491899"
    },
    {
      "cell_type": "code",
      "source": [
        "prompt = \"What are the damages for vehicles A and B?\"\n",
        "\n",
        "result = gpt4o_imagefile(image_file, prompt)\n",
        "print(result.choices[0].message.content)"
      ],
      "outputs": [],
      "execution_count": null,
      "metadata": {
        "gather": {
          "logged": 1727209830025
        }
      },
      "id": "9339d93d"
    },
    {
      "cell_type": "code",
      "source": [
        "prompt = \"Do we have injured people?\"\n",
        "\n",
        "result = gpt4o_imagefile(image_file, prompt)\n",
        "print(result.choices[0].message.content)"
      ],
      "outputs": [],
      "execution_count": null,
      "metadata": {
        "gather": {
          "logged": 1727209832895
        }
      },
      "id": "f6c6f741"
    },
    {
      "cell_type": "code",
      "source": [
        "prompt = \"Do we have some witness?\"\n",
        "\n",
        "result = gpt4o_imagefile(image_file, prompt)\n",
        "print(result.choices[0].message.content)"
      ],
      "outputs": [],
      "execution_count": null,
      "metadata": {
        "gather": {
          "logged": 1727209836392
        }
      },
      "id": "1074ce94"
    },
    {
      "cell_type": "code",
      "source": [
        "prompt = \"Explain the drawings from section number 10 for vehicles A and B\"\n",
        "\n",
        "result = gpt4o_imagefile(image_file, prompt)\n",
        "print(result.choices[0].message.content)"
      ],
      "outputs": [],
      "execution_count": null,
      "metadata": {
        "gather": {
          "logged": 1727209840355
        }
      },
      "id": "dafbb4bf"
    },
    {
      "cell_type": "code",
      "source": [
        "prompt = \"Explain the drawing from section number 13\"\n",
        "\n",
        "result = gpt4o_imagefile(image_file, prompt)\n",
        "print(result.choices[0].message.content)"
      ],
      "outputs": [],
      "execution_count": null,
      "metadata": {
        "gather": {
          "logged": 1727209845843
        }
      },
      "id": "4a4bce24"
    },
    {
      "cell_type": "code",
      "source": [
        "prompt = \"Do we have signatures on section 15? Just say YES or NO.\\\n",
        "IF the answer is YES, how many signatures do we have? Just print the number\"\n",
        "\n",
        "result = gpt4o_imagefile(image_file, prompt)\n",
        "print(result.choices[0].message.content)"
      ],
      "outputs": [],
      "execution_count": null,
      "metadata": {
        "gather": {
          "logged": 1727209848606
        }
      },
      "id": "f854bcc3"
    }
  ],
  "metadata": {
    "kernelspec": {
      "name": "python310-sdkv2",
      "language": "python",
      "display_name": "Python 3.10 - SDK v2"
    },
    "language_info": {
      "name": "python",
      "version": "3.10.14",
      "mimetype": "text/x-python",
      "codemirror_mode": {
        "name": "ipython",
        "version": 3
      },
      "pygments_lexer": "ipython3",
      "nbconvert_exporter": "python",
      "file_extension": ".py"
    },
    "microsoft": {
      "ms_spell_check": {
        "ms_spell_check_language": "en"
      }
    },
    "kernel_info": {
      "name": "python310-sdkv2"
    },
    "nteract": {
      "version": "nteract-front-end@1.0.0"
    }
  },
  "nbformat": 4,
  "nbformat_minor": 5
}