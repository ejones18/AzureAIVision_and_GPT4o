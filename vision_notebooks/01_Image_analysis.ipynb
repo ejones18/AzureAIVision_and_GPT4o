{
  "cells": [
    {
      "cell_type": "markdown",
      "source": [
        "#### Credit Serge Retkowsky | Microsoft | https://github.com/retkowsky "
      ],
      "metadata": {}
    },
    {
      "cell_type": "markdown",
      "source": [
        "# Azure Computer Vision 4 (Florence)\n",
        "\n",
        "## Image Analysis with Azure Computer Vision 4\n",
        "\n",
        "The **Computer Vision Image Analysis** service can extract a wide variety of visual features from your images. For example, it can determine whether an image contains adult content, find specific brands or objects, or find human faces.\n",
        "\n",
        "The latest version of Image Analysis, 4.0, which is now in public preview, has new features like synchronous OCR and people detection. We recommend you use this version going forward.\n",
        "\n",
        "You can use Image Analysis through a client library SDK or by calling the REST API directly. Follow the quickstart to get started.\n",
        "\n",
        "https://learn.microsoft.com/en-us/azure/cognitive-services/computer-vision/overview-image-analysis?tabs=4-0\n",
        "\n",
        "Azure Computer Vision updates:\n",
        "https://learn.microsoft.com/en-us/azure/cognitive-services/computer-vision/whats-new#march-2023"
      ],
      "metadata": {}
    },
    {
      "cell_type": "markdown",
      "source": [
        "## 1. Installing Libraries"
      ],
      "metadata": {}
    },
    {
      "cell_type": "code",
      "source": [
        "import os\n",
        "import requests\n",
        "import sys\n",
        "\n",
        "from dotenv import load_dotenv\n",
        "from PIL import Image\n",
        "from pprintjson import pprintjson"
      ],
      "outputs": [],
      "execution_count": null,
      "metadata": {
        "gather": {
          "logged": 1727211310820
        }
      }
    },
    {
      "cell_type": "code",
      "source": [
        "sys.version"
      ],
      "outputs": [],
      "execution_count": null,
      "metadata": {
        "gather": {
          "logged": 1727211311489
        }
      }
    },
    {
      "cell_type": "markdown",
      "source": [
        "## 2. Azure Computer Vision 4"
      ],
      "metadata": {}
    },
    {
      "cell_type": "code",
      "source": [
        "load_dotenv(\"credentials.env\")\n",
        "\n",
        "key = os.getenv(\"COMPUTER_VISION_SUBSCRIPTION_KEY\")\n",
        "endpoint = os.getenv(\"COMPUTER_VISION_ENDPOINT\")"
      ],
      "outputs": [],
      "execution_count": null,
      "metadata": {
        "gather": {
          "logged": 1727211312008
        }
      }
    },
    {
      "cell_type": "code",
      "source": [
        "options = \"&features=tags,objects,caption,read,smartCrops,denseCaptions,people\"\n",
        "model = \"?api-version=2023-02-01-preview&modelVersion=latest\"\n",
        "\n",
        "url = endpoint + \"/computervision/imageanalysis:analyze\" + model + options\n",
        "\n",
        "headers = {\"Content-type\": \"application/octet-stream\", \"Ocp-Apim-Subscription-Key\": key}"
      ],
      "outputs": [],
      "execution_count": null,
      "metadata": {
        "gather": {
          "logged": 1727211312449
        }
      }
    },
    {
      "cell_type": "markdown",
      "source": [
        "## 3. Load the Images"
      ],
      "metadata": {}
    },
    {
      "cell_type": "code",
      "source": [
        "IMAGES_DIR = \"images\"\n",
        "\n",
        "image_extensions = (\".jpg\", \".jpeg\", \".png\", \".gif\")\n",
        "image_files = [f for f in os.listdir(IMAGES_DIR) if f.endswith(image_extensions)]\n",
        "image_files"
      ],
      "outputs": [],
      "execution_count": null,
      "metadata": {
        "gather": {
          "logged": 1727211312932
        }
      }
    },
    {
      "cell_type": "markdown",
      "source": [
        "### Test 1"
      ],
      "metadata": {}
    },
    {
      "cell_type": "code",
      "source": [
        "image_file = os.path.join(IMAGES_DIR, \"presentation.png\")\n",
        "\n",
        "img = Image.open(image_file)\n",
        "img.thumbnail((640, 640), Image.LANCZOS)\n",
        "img"
      ],
      "outputs": [],
      "execution_count": null,
      "metadata": {
        "gather": {
          "logged": 1727211314061
        }
      }
    },
    {
      "cell_type": "code",
      "source": [
        "with open(image_file, \"rb\") as f:\n",
        "    data = f.read()\n",
        "\n",
        "r = requests.post(url, data=data, headers=headers)\n",
        "\n",
        "results = r.json()\n",
        "pprintjson(results)"
      ],
      "outputs": [],
      "execution_count": null,
      "metadata": {
        "gather": {
          "logged": 1727211314730
        }
      }
    },
    {
      "cell_type": "code",
      "source": [
        "pprintjson(results)"
      ],
      "outputs": [],
      "execution_count": null,
      "metadata": {
        "gather": {
          "logged": 1727211314972
        }
      }
    },
    {
      "cell_type": "code",
      "source": [
        "pprintjson(results[\"modelVersion\"])"
      ],
      "outputs": [],
      "execution_count": null,
      "metadata": {
        "gather": {
          "logged": 1727211315235
        }
      }
    },
    {
      "cell_type": "code",
      "source": [
        "pprintjson(results[\"metadata\"])"
      ],
      "outputs": [],
      "execution_count": null,
      "metadata": {
        "gather": {
          "logged": 1727211315530
        }
      }
    },
    {
      "cell_type": "code",
      "source": [
        "pprintjson(results[\"captionResult\"])"
      ],
      "outputs": [],
      "execution_count": null,
      "metadata": {
        "gather": {
          "logged": 1727211315822
        }
      }
    },
    {
      "cell_type": "code",
      "source": [
        "pprintjson(results[\"objectsResult\"])"
      ],
      "outputs": [],
      "execution_count": null,
      "metadata": {
        "gather": {
          "logged": 1727211316146
        }
      }
    },
    {
      "cell_type": "code",
      "source": [
        "pprintjson(results[\"denseCaptionsResult\"])"
      ],
      "outputs": [],
      "execution_count": null,
      "metadata": {
        "gather": {
          "logged": 1727211316726
        }
      }
    },
    {
      "cell_type": "code",
      "source": [
        "pprintjson(results[\"tagsResult\"])"
      ],
      "outputs": [],
      "execution_count": null,
      "metadata": {
        "gather": {
          "logged": 1727211317017
        }
      }
    },
    {
      "cell_type": "code",
      "source": [
        "pprintjson(results[\"readResult\"])"
      ],
      "outputs": [],
      "execution_count": null,
      "metadata": {
        "gather": {
          "logged": 1727211317636
        }
      }
    },
    {
      "cell_type": "code",
      "source": [
        "pprintjson(results[\"readResult\"][\"content\"])"
      ],
      "outputs": [],
      "execution_count": null,
      "metadata": {
        "gather": {
          "logged": 1727211318141
        }
      }
    },
    {
      "cell_type": "code",
      "source": [
        "pprintjson(results[\"smartCropsResult\"])"
      ],
      "outputs": [],
      "execution_count": null,
      "metadata": {
        "gather": {
          "logged": 1727211318603
        }
      }
    },
    {
      "cell_type": "code",
      "source": [
        "pprintjson(results[\"peopleResult\"])"
      ],
      "outputs": [],
      "execution_count": null,
      "metadata": {
        "gather": {
          "logged": 1727211319047
        }
      }
    },
    {
      "cell_type": "markdown",
      "source": [
        "### Test 2"
      ],
      "metadata": {}
    },
    {
      "cell_type": "code",
      "source": [
        "image_file = os.path.join(IMAGES_DIR, \"postalcard.jpg\")\n",
        "\n",
        "img = Image.open(image_file)\n",
        "img.thumbnail((640, 640), Image.LANCZOS)\n",
        "img"
      ],
      "outputs": [],
      "execution_count": null,
      "metadata": {
        "gather": {
          "logged": 1727211320259
        }
      }
    },
    {
      "cell_type": "code",
      "source": [
        "with open(image_file, \"rb\") as f:\n",
        "    data = f.read()\n",
        "\n",
        "r = requests.post(url, data=data, headers=headers)\n",
        "\n",
        "results = r.json()\n",
        "pprintjson(results)"
      ],
      "outputs": [],
      "execution_count": null,
      "metadata": {
        "gather": {
          "logged": 1727211320706
        }
      }
    },
    {
      "cell_type": "code",
      "source": [
        "print(results[\"readResult\"][\"content\"])"
      ],
      "outputs": [],
      "execution_count": null,
      "metadata": {
        "gather": {
          "logged": 1727211321051
        }
      }
    },
    {
      "cell_type": "markdown",
      "source": [
        "### Test 3"
      ],
      "metadata": {}
    },
    {
      "cell_type": "code",
      "source": [
        "image_file = os.path.join(IMAGES_DIR, \"businesscard.jpg\")\n",
        "\n",
        "img = Image.open(image_file)\n",
        "img.thumbnail((640, 640), Image.LANCZOS)\n",
        "img"
      ],
      "outputs": [],
      "execution_count": null,
      "metadata": {
        "gather": {
          "logged": 1727211322006
        }
      }
    },
    {
      "cell_type": "code",
      "source": [
        "with open(image_file, \"rb\") as f:\n",
        "    data = f.read()\n",
        "\n",
        "r = requests.post(url, data=data, headers=headers)\n",
        "\n",
        "results = r.json()\n",
        "pprintjson(results)"
      ],
      "outputs": [],
      "execution_count": null,
      "metadata": {
        "gather": {
          "logged": 1727211322838
        }
      }
    },
    {
      "cell_type": "code",
      "source": [
        "print(results[\"readResult\"][\"content\"])"
      ],
      "outputs": [],
      "execution_count": null,
      "metadata": {
        "gather": {
          "logged": 1727211323159
        }
      }
    },
    {
      "cell_type": "markdown",
      "source": [
        "### Test 4"
      ],
      "metadata": {}
    },
    {
      "cell_type": "code",
      "source": [
        "image_file = os.path.join(IMAGES_DIR, \"street.jpg\")\n",
        "\n",
        "img = Image.open(image_file)\n",
        "img.thumbnail((640, 640), Image.LANCZOS)\n",
        "img"
      ],
      "outputs": [],
      "execution_count": null,
      "metadata": {
        "gather": {
          "logged": 1727211323639
        }
      }
    },
    {
      "cell_type": "code",
      "source": [
        "with open(image_file, \"rb\") as f:\n",
        "    data = f.read()\n",
        "\n",
        "r = requests.post(url, data=data, headers=headers)\n",
        "\n",
        "results = r.json()\n",
        "pprintjson(results)"
      ],
      "outputs": [],
      "execution_count": null,
      "metadata": {
        "gather": {
          "logged": 1727211323995
        }
      }
    },
    {
      "cell_type": "code",
      "source": [
        "pprintjson(results[\"captionResult\"])"
      ],
      "outputs": [],
      "execution_count": null,
      "metadata": {
        "gather": {
          "logged": 1727211324331
        }
      }
    },
    {
      "cell_type": "code",
      "source": [
        "pprintjson(results[\"objectsResult\"])"
      ],
      "outputs": [],
      "execution_count": null,
      "metadata": {
        "gather": {
          "logged": 1727211324687
        }
      }
    },
    {
      "cell_type": "code",
      "source": [
        "pprintjson(results[\"denseCaptionsResult\"])"
      ],
      "outputs": [],
      "execution_count": null,
      "metadata": {
        "gather": {
          "logged": 1727211324993
        }
      }
    },
    {
      "cell_type": "code",
      "source": [
        "pprintjson(results[\"tagsResult\"])"
      ],
      "outputs": [],
      "execution_count": null,
      "metadata": {
        "gather": {
          "logged": 1727211325263
        }
      }
    },
    {
      "cell_type": "code",
      "source": [
        "pprintjson(results[\"peopleResult\"])"
      ],
      "outputs": [],
      "execution_count": null,
      "metadata": {
        "gather": {
          "logged": 1727211325540
        }
      }
    }
  ],
  "metadata": {
    "kernelspec": {
      "name": "python310-sdkv2",
      "language": "python",
      "display_name": "Python 3.10 - SDK v2"
    },
    "language_info": {
      "name": "python",
      "version": "3.10.14",
      "mimetype": "text/x-python",
      "codemirror_mode": {
        "name": "ipython",
        "version": 3
      },
      "pygments_lexer": "ipython3",
      "nbconvert_exporter": "python",
      "file_extension": ".py"
    },
    "microsoft": {
      "ms_spell_check": {
        "ms_spell_check_language": "en"
      }
    },
    "kernel_info": {
      "name": "python310-sdkv2"
    },
    "nteract": {
      "version": "nteract-front-end@1.0.0"
    }
  },
  "nbformat": 4,
  "nbformat_minor": 2
}