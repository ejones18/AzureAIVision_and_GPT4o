{
  "cells": [
    {
      "cell_type": "markdown",
      "source": [
        "# Azure Computer Vision 4 (Florence)\n\n## Image Analysis V4.0 Captioning and Dense Captioning (public preview)\n\n\"Caption\" replaces \"Describe\" in V4.0 as the significantly improved image captioning feature rich with details and sematic understanding. \n\n- Dense Captions provides more detail by generating one sentence descriptions of up to 10 regions of the image in addition to describing the whole image. \n- Dense Captions also returns bounding box coordinates of the described image regions. \n- There's also a new gender-neutral parameter to allow customers to choose whether to enable probabilistic gender inference for alt-text and Seeing AI applications. \n- Automatically deliver rich captions, accessible alt-text, SEO optimization, and intelligent photo curation to support digital content.\n\nhttps://learn.microsoft.com/en-us/azure/cognitive-services/computer-vision/concept-describe-images-40?tabs=image\n\nAzure Computer Vision updates: https://learn.microsoft.com/en-us/azure/cognitive-services/computer-vision/whats-new#march-2023\n<br><br>\n> Serge Retkowsky | Microsoft | https://github.com/retkowsky | 3rd of May, 2023"
      ],
      "metadata": {},
      "id": "29a447b0"
    },
    {
      "cell_type": "code",
      "source": [
        "import cv2\n",
        "import json\n",
        "import glob\n",
        "import numpy as np\n",
        "import os\n",
        "import requests\n",
        "import sys\n",
        "\n",
        "from dotenv import load_dotenv\n",
        "from io import BytesIO\n",
        "from IPython.display import Image as viewimage\n",
        "from matplotlib import pyplot as plt\n",
        "from PIL import Image\n",
        "from pprintjson import pprintjson"
      ],
      "outputs": [],
      "execution_count": null,
      "metadata": {
        "gather": {
          "logged": 1727212060332
        }
      },
      "id": "0d830966"
    },
    {
      "cell_type": "code",
      "source": [
        "sys.version"
      ],
      "outputs": [],
      "execution_count": null,
      "metadata": {
        "gather": {
          "logged": 1727212060840
        }
      },
      "id": "aa7c6444"
    },
    {
      "cell_type": "code",
      "source": [
        "load_dotenv(\"azure.env\")\n",
        "\n",
        "key = os.getenv(\"COMPUTER_VISION_SUBSCRIPTION_KEY\")\n",
        "endpoint = os.getenv(\"COMPUTER_VISION_ENDPOINT\")"
      ],
      "outputs": [],
      "execution_count": null,
      "metadata": {
        "gather": {
          "logged": 1727212061189
        }
      },
      "id": "93efcfdb"
    },
    {
      "cell_type": "code",
      "source": [
        "IMAGES_DIR = \"images\""
      ],
      "outputs": [],
      "execution_count": null,
      "metadata": {
        "gather": {
          "logged": 1727212061534
        }
      },
      "id": "ab6a531e"
    },
    {
      "cell_type": "code",
      "source": [
        "RESULT_DIR = \"results\"\n",
        "\n",
        "os.makedirs(RESULT_DIR, exist_ok=True)"
      ],
      "outputs": [],
      "execution_count": null,
      "metadata": {
        "gather": {
          "logged": 1727212061899
        }
      },
      "id": "577b5207"
    },
    {
      "cell_type": "code",
      "source": [
        "url = (\n",
        "    endpoint\n",
        "    + \"/computervision/imageanalysis:analyze?api-version=2023-02-01-preview&features=denseCaptions&language=en\"\n",
        ")\n",
        "\n",
        "headers = {\"Content-type\": \"application/json\", \"Ocp-Apim-Subscription-Key\": key}"
      ],
      "outputs": [],
      "execution_count": null,
      "metadata": {
        "gather": {
          "logged": 1727212062413
        }
      },
      "id": "43206594"
    },
    {
      "cell_type": "code",
      "source": [
        "image_url = (\n",
        "    \"https://github.com/retkowsky/images/blob/master/car%20on%20fire.jpg?raw=true\"\n",
        ")\n",
        "\n",
        "r = requests.get(image_url)\n",
        "img = Image.open(BytesIO(r.content))\n",
        "img\n",
        "\n",
        "img.save(os.path.join(IMAGES_DIR, \"image1.jpg\"))"
      ],
      "outputs": [],
      "execution_count": null,
      "metadata": {
        "gather": {
          "logged": 1727212062959
        }
      },
      "id": "e668e82b"
    },
    {
      "cell_type": "code",
      "source": [
        "r = requests.post(url, data=json.dumps({\"url\": image_url}), headers=headers)\n",
        "\n",
        "results = r.json()\n",
        "pprintjson(results)"
      ],
      "outputs": [],
      "execution_count": null,
      "metadata": {
        "gather": {
          "logged": 1727212064288
        }
      },
      "id": "79fb8fbc"
    },
    {
      "cell_type": "code",
      "source": [
        "main_caption = results[\"denseCaptionsResult\"][\"values\"][0]\n",
        "main_caption\n",
        "\n",
        "print(\n",
        "    \"The main caption of the image is:\",\n",
        "    main_caption[\"text\"],\n",
        "    \"with a confidence =\",\n",
        "    main_caption[\"confidence\"],\n",
        ")"
      ],
      "outputs": [],
      "execution_count": null,
      "metadata": {
        "gather": {
          "logged": 1727212064606
        }
      },
      "id": "02f12864"
    },
    {
      "cell_type": "code",
      "source": [
        "print(\"\\033[1;31;34mDense captions:\\n\")\n",
        "\n",
        "for idx, value in enumerate(results[\"denseCaptionsResult\"][\"values\"], start=1):\n",
        "    print(idx, value[\"text\"], \"=\", round(value[\"confidence\"], 3))"
      ],
      "outputs": [],
      "execution_count": null,
      "metadata": {
        "gather": {
          "logged": 1727212064839
        }
      },
      "id": "b1e7c524"
    },
    {
      "cell_type": "code",
      "source": [
        "images = glob.glob(\"cropped_1_*.*\")\n",
        "\n",
        "for image in images:\n",
        "    os.remove(image)\n",
        "\n",
        "img = cv2.cvtColor(\n",
        "    cv2.imread(os.path.join(IMAGES_DIR, \"image1.jpg\")), cv2.COLOR_BGR2RGB\n",
        ")\n",
        "imageCopy = img.copy()\n",
        "\n",
        "for value in results[\"denseCaptionsResult\"][\"values\"]:\n",
        "    densecaption = value[\"text\"]\n",
        "    confidence = value[\"confidence\"]\n",
        "    x = value[\"boundingBox\"][\"x\"]\n",
        "    y = value[\"boundingBox\"][\"y\"]\n",
        "    w = value[\"boundingBox\"][\"w\"]\n",
        "    h = value[\"boundingBox\"][\"h\"]\n",
        "\n",
        "    caption = f\"{densecaption} = {round(confidence, 2)}\"\n",
        "    color = list(np.random.random(size=3) * 256)\n",
        "    cv2.rectangle(img, (x, y), (x + w, y + h), color, 3)\n",
        "    cv2.putText(\n",
        "        img,\n",
        "        caption,\n",
        "        (x - 80, int((y + y + h) / 2)),\n",
        "        cv2.FONT_HERSHEY_SIMPLEX,\n",
        "        0.5,\n",
        "        color,\n",
        "        2,\n",
        "    )\n",
        "\n",
        "    crop_img = imageCopy[y : y + h, x : x + w]\n",
        "    cv2.imwrite(\n",
        "        RESULT_DIR + \"/cropped_1_\" + densecaption + \"_\" + str(confidence) + \".jpg\",\n",
        "        cv2.cvtColor(crop_img, cv2.COLOR_BGR2RGB),\n",
        "    )\n",
        "\n",
        "plt.figure(figsize=(15, 12))\n",
        "plt.axis(\"off\")\n",
        "plt.imshow(img)\n",
        "\n",
        "plt.savefig(os.path.join(RESULT_DIR, \"dense_captions_1.jpg\"))"
      ],
      "outputs": [],
      "execution_count": null,
      "metadata": {
        "gather": {
          "logged": 1727212065714
        }
      },
      "id": "0be85303"
    },
    {
      "cell_type": "code",
      "source": [
        "# List of image file names\n",
        "image_files = glob.glob(RESULT_DIR + \"/cropped_1_*.*\")\n",
        "\n",
        "# Load images\n",
        "images = []\n",
        "for file in image_files:\n",
        "    img = Image.open(file)\n",
        "    images.append(img)\n",
        "\n",
        "# Create figure with subplots\n",
        "num_images = len(images)\n",
        "num_rows = (num_images // 2) + (num_images % 2 > 0)\n",
        "fig, axes = plt.subplots(num_rows, 2, figsize=(30, 5 * num_rows))\n",
        "\n",
        "# Display images on subplots\n",
        "for i, ax in enumerate(axes.flat):\n",
        "    if i < num_images:\n",
        "        ax.imshow(images[i])\n",
        "        ax.set_title(image_files[i])\n",
        "        ax.axis('off')\n",
        "\n",
        "plt.show()"
      ],
      "outputs": [],
      "execution_count": null,
      "metadata": {
        "gather": {
          "logged": 1727212067102
        },
        "jupyter": {
          "outputs_hidden": false,
          "source_hidden": false
        },
        "nteract": {
          "transient": {
            "deleting": false
          }
        }
      },
      "id": "a720b0e8-b2e0-4431-a3d7-c046c1c375a2"
    },
    {
      "cell_type": "markdown",
      "source": [
        "## Using a local image file"
      ],
      "metadata": {},
      "id": "5ba04029"
    },
    {
      "cell_type": "code",
      "source": [
        "IMAGES_DIR = \"images\"\n",
        "image_extensions = (\".jpg\", \".jpeg\", \".png\", \".gif\")\n",
        "\n",
        "image_files = [f for f in os.listdir(IMAGES_DIR) if f.endswith(image_extensions)]\n",
        "image_files"
      ],
      "outputs": [],
      "execution_count": null,
      "metadata": {
        "gather": {
          "logged": 1727212067422
        }
      },
      "id": "9b601f27"
    },
    {
      "cell_type": "code",
      "source": [
        "local_file = os.path.join(IMAGES_DIR, \"tomato.jpg\")"
      ],
      "outputs": [],
      "execution_count": null,
      "metadata": {
        "gather": {
          "logged": 1727212067623
        }
      },
      "id": "ef058249"
    },
    {
      "cell_type": "code",
      "source": [
        "viewimage(filename=local_file)"
      ],
      "outputs": [],
      "execution_count": null,
      "metadata": {
        "gather": {
          "logged": 1727212067956
        }
      },
      "id": "f65e0a35"
    },
    {
      "cell_type": "code",
      "source": [
        "with open(local_file, \"rb\") as f:\n",
        "    data = f.read()\n",
        "\n",
        "headers = {\n",
        "    \"Content-type\": \"application/octet-stream\",\n",
        "    \"Ocp-Apim-Subscription-Key\": key,\n",
        "}\n",
        "\n",
        "r = requests.post(url, data=data, headers=headers)\n",
        "\n",
        "results = r.json()\n",
        "pprintjson(results)"
      ],
      "outputs": [],
      "execution_count": null,
      "metadata": {
        "gather": {
          "logged": 1727212068306
        }
      },
      "id": "592e9073"
    },
    {
      "cell_type": "code",
      "source": [
        "images = glob.glob(os.path.join(RESULT_DIR, \"cropped_2_*.*\"))\n",
        "\n",
        "for image in images:\n",
        "    os.remove(image)\n",
        "\n",
        "img = cv2.cvtColor(cv2.imread(local_file), cv2.COLOR_BGR2RGB)\n",
        "imageCopy = img.copy()\n",
        "\n",
        "for value in results[\"denseCaptionsResult\"][\"values\"]:\n",
        "    densecaption = value[\"text\"]\n",
        "    confidence = value[\"confidence\"]\n",
        "    x = value[\"boundingBox\"][\"x\"]\n",
        "    y = value[\"boundingBox\"][\"y\"]\n",
        "    w = value[\"boundingBox\"][\"w\"]\n",
        "    h = value[\"boundingBox\"][\"h\"]\n",
        "\n",
        "    caption = f\"{densecaption} = {round(confidence, 2)}\"\n",
        "    color = list(np.random.random(size=3) * 256)\n",
        "    cv2.rectangle(img, (x, y), (x + w, y + h), color, 1)\n",
        "    cv2.putText(\n",
        "        img,\n",
        "        caption,\n",
        "        (x - 20, int((y + y + h) / 2)),\n",
        "        cv2.FONT_HERSHEY_SIMPLEX,\n",
        "        0.5,\n",
        "        color,\n",
        "        1,\n",
        "    )\n",
        "\n",
        "    crop_img = imageCopy[y : y + h, x : x + w]\n",
        "    cv2.imwrite(\n",
        "        RESULT_DIR + \"/cropped_2_\" + densecaption + \"_\" + str(confidence) + \".jpg\",\n",
        "        cv2.cvtColor(crop_img, cv2.COLOR_BGR2RGB),\n",
        "    )\n",
        "\n",
        "plt.figure(figsize=(15, 12))\n",
        "plt.axis(\"off\")\n",
        "plt.imshow(img)\n",
        "\n",
        "plt.savefig(os.path.join(RESULT_DIR, \"dense_captions_2.jpg\"))"
      ],
      "outputs": [],
      "execution_count": null,
      "metadata": {
        "gather": {
          "logged": 1727212069233
        }
      },
      "id": "5cc9b6ab"
    },
    {
      "cell_type": "code",
      "source": [
        "# List of image file names\n",
        "image_files = glob.glob(RESULT_DIR + \"/cropped_2_*.*\")\n",
        "\n",
        "# Load images\n",
        "images = []\n",
        "for file in image_files:\n",
        "    img = Image.open(file)\n",
        "    images.append(img)\n",
        "\n",
        "# Create figure with subplots\n",
        "num_images = len(images)\n",
        "num_rows = (num_images // 2) + (num_images % 2 > 0)\n",
        "fig, axes = plt.subplots(num_rows, 2, figsize=(30, 5 * num_rows))\n",
        "\n",
        "# Display images on subplots\n",
        "for i, ax in enumerate(axes.flat):\n",
        "    if i < num_images:\n",
        "        ax.imshow(images[i])\n",
        "        ax.set_title(image_files[i])\n",
        "        ax.axis('off')\n",
        "\n",
        "plt.show()"
      ],
      "outputs": [],
      "execution_count": null,
      "metadata": {
        "gather": {
          "logged": 1727212070413
        },
        "jupyter": {
          "outputs_hidden": false,
          "source_hidden": false
        },
        "nteract": {
          "transient": {
            "deleting": false
          }
        }
      },
      "id": "ecbe1156-28c4-45e1-b93a-57add85fe598"
    }
  ],
  "metadata": {
    "kernel_info": {
      "name": "python310-sdkv2"
    },
    "kernelspec": {
      "name": "python310-sdkv2",
      "language": "python",
      "display_name": "Python 3.10 - SDK v2"
    },
    "language_info": {
      "name": "python",
      "version": "3.10.14",
      "mimetype": "text/x-python",
      "codemirror_mode": {
        "name": "ipython",
        "version": 3
      },
      "pygments_lexer": "ipython3",
      "nbconvert_exporter": "python",
      "file_extension": ".py"
    },
    "microsoft": {
      "host": {
        "AzureML": {
          "notebookHasBeenCompleted": true
        }
      },
      "ms_spell_check": {
        "ms_spell_check_language": "en"
      }
    },
    "nteract": {
      "version": "nteract-front-end@1.0.0"
    }
  },
  "nbformat": 4,
  "nbformat_minor": 5
}