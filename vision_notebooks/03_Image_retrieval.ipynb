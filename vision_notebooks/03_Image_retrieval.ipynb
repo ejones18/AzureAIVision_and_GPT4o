{
  "cells": [
    {
      "cell_type": "markdown",
      "source": [
        "# Azure Computer Vision 4 (Florence)\n\n## Image retrieval (version 4.0 preview) with Azure Computer Vision\n\n**Vector embeddings** are a way of representing content—text or images—as vectors of real numbers in a high-dimensional space. Vector embeddings are often learned from large amounts of textual and visual data using machine learning algorithms, such as neural networks. Each dimension of the vector corresponds to a different feature or attribute of the content, such as its semantic meaning, syntactic role, or context in which it commonly appears.\n\n- **Vectorize Images and Text:** the Image Retrieval APIs, VectorizeImage and VectorizeText, can be used to extract feature vectors out of an image or text respectively. The APIs return a single feature vector representing the entire input.\n\n- **Measure similarity**: Vector search systems typically use distance metrics, such as cosine distance or Euclidean distance, to compare vectors and rank them by similarity. The Vision studio demo uses cosine distance to measure similarity.\n\n- **Retrieve Images:** Use the top N vectors similar to the search query and retrieve images corresponding to those vectors from your photo library to provide as the final result.\n\n![Image](./image-retrieval.png)\n\nAzure Computer Vision updates: https://learn.microsoft.com/en-us/azure/cognitive-services/computer-vision/whats-new#march-2023\n<br><br>\n> Serge Retkowsky | Microsoft | https://github.com/retkowsky | 3rd of May, 2023"
      ],
      "metadata": {},
      "id": "7307dea3"
    },
    {
      "cell_type": "code",
      "source": [
        "import json\n",
        "import math\n",
        "import matplotlib.pyplot as plt\n",
        "import os\n",
        "import pandas as pd\n",
        "import requests\n",
        "import seaborn as sns\n",
        "import sys\n",
        "\n",
        "from dotenv import load_dotenv\n",
        "from IPython.display import Image as viewimage\n",
        "from PIL import Image"
      ],
      "outputs": [],
      "execution_count": null,
      "metadata": {
        "gather": {
          "logged": 1727212120160
        }
      },
      "id": "4bb13529"
    },
    {
      "cell_type": "code",
      "source": [
        "sys.version"
      ],
      "outputs": [],
      "execution_count": null,
      "metadata": {
        "gather": {
          "logged": 1727212120500
        }
      },
      "id": "955388e6"
    },
    {
      "cell_type": "markdown",
      "source": [
        "## Azure Computer Vision 4.0 Florence connection"
      ],
      "metadata": {},
      "id": "b6ce967d"
    },
    {
      "cell_type": "code",
      "source": [
        "load_dotenv(\"azure.env\")\n",
        "\n",
        "key = os.getenv(\"COMPUTER_VISION_SUBSCRIPTION_KEY\")\n",
        "endpoint = os.getenv(\"COMPUTER_VISION_ENDPOINT\")"
      ],
      "outputs": [],
      "execution_count": null,
      "metadata": {
        "gather": {
          "logged": 1727212120843
        }
      },
      "id": "1e354652"
    },
    {
      "cell_type": "code",
      "source": [
        "version = \"?api-version=2023-02-01-preview&modelVersion=latest\"\n",
        "\n",
        "vec_img_url = (\n",
        "    endpoint + \"/computervision/retrieval:vectorizeImage\" + version\n",
        ")  # For doing the image vectorization\n",
        "vec_txt_url = (\n",
        "    endpoint + \"/computervision/retrieval:vectorizeText\" + version\n",
        ")  # For the prompt vectorization\n",
        "\n",
        "headers = {\"Content-type\": \"application/json\", \"Ocp-Apim-Subscription-Key\": key}"
      ],
      "outputs": [],
      "execution_count": null,
      "metadata": {
        "gather": {
          "logged": 1727212121145
        }
      },
      "id": "e914fcfc"
    },
    {
      "cell_type": "code",
      "source": [
        "def image_embedding(imageurl):\n",
        "    \"\"\"\n",
        "    Embedding image using Azure CV 4.0\n",
        "    \"\"\"\n",
        "    image = {\"url\": imageurl}\n",
        "    r = requests.post(vec_img_url, data=json.dumps(image), headers=headers)\n",
        "    image_emb = r.json()[\"vector\"]\n",
        "\n",
        "    return image_emb"
      ],
      "outputs": [],
      "execution_count": null,
      "metadata": {
        "gather": {
          "logged": 1727212121580
        }
      },
      "id": "58724931"
    },
    {
      "cell_type": "code",
      "source": [
        "def text_embedding(promptxt):\n",
        "    \"\"\"\n",
        "    Embedding text using Azure CV 4.0\n",
        "    \"\"\"\n",
        "    prompt = {\"text\": promptxt}\n",
        "    r = requests.post(vec_txt_url, data=json.dumps(prompt), headers=headers)\n",
        "    text_emb = r.json()[\"vector\"]\n",
        "\n",
        "    return text_emb"
      ],
      "outputs": [],
      "execution_count": null,
      "metadata": {
        "gather": {
          "logged": 1727212122249
        }
      },
      "id": "1f12d106"
    },
    {
      "cell_type": "code",
      "source": [
        "def get_cosine_similarity(vector1, vector2):\n",
        "    \"\"\"\n",
        "    Get cosine similarity value\n",
        "    \"\"\"\n",
        "    dot_product = 0\n",
        "    length = min(len(vector1), len(vector2))\n",
        "\n",
        "    for i in range(length):\n",
        "        dot_product += vector1[i] * vector2[i]\n",
        "\n",
        "    magnitude1 = math.sqrt(sum(x * x for x in vector1))\n",
        "    magnitude2 = math.sqrt(sum(x * x for x in vector2))\n",
        "    similarity = dot_product / (magnitude1 * magnitude2)\n",
        "\n",
        "    return similarity"
      ],
      "outputs": [],
      "execution_count": null,
      "metadata": {
        "gather": {
          "logged": 1727212122503
        }
      },
      "id": "1f01a242"
    },
    {
      "cell_type": "code",
      "source": [
        "def similarity_results(image_emb, prompts):\n",
        "    \"\"\" \"\n",
        "    Get similarity results\n",
        "    \"\"\"\n",
        "    simil_values_list = [\n",
        "        get_cosine_similarity(image_emb, text_embedding(prompt)) for prompt in prompts\n",
        "    ]\n",
        "    sorted_results = sorted(\n",
        "        zip(prompts, simil_values_list), key=lambda x: x[1], reverse=True\n",
        "    )\n",
        "\n",
        "    df = pd.DataFrame(columns=[\"prompt\", \"similarity\"])\n",
        "    for idx, (prompt, simil_val) in enumerate(sorted_results):\n",
        "        df.loc[idx, \"prompt\"] = prompt\n",
        "        df.loc[idx, \"similarity\"] = simil_val\n",
        "\n",
        "    df[\"similarity\"] = df.similarity.astype(float)\n",
        "\n",
        "    return df"
      ],
      "outputs": [],
      "execution_count": null,
      "metadata": {
        "gather": {
          "logged": 1727212123023
        }
      },
      "id": "ccababd2"
    },
    {
      "cell_type": "markdown",
      "source": [
        "## Embedding image"
      ],
      "metadata": {},
      "id": "9e6a9c0e"
    },
    {
      "cell_type": "code",
      "source": [
        "imageurl1 = \"https://github.com/retkowsky/images/blob/master/i4.jpg?raw=true\"\n",
        "image_emb1 = image_embedding(imageurl1)\n",
        "\n",
        "plt.imshow(Image.open(requests.get(imageurl1, stream=True).raw))\n",
        "plt.axis(\"off\")\n",
        "plt.show()"
      ],
      "outputs": [],
      "execution_count": null,
      "metadata": {
        "gather": {
          "logged": 1727212124697
        }
      },
      "id": "c834b267"
    },
    {
      "cell_type": "markdown",
      "source": [
        "## Embedding prompts"
      ],
      "metadata": {},
      "id": "30f1d61d"
    },
    {
      "cell_type": "code",
      "source": [
        "text1 = text_embedding(\"a dog\")"
      ],
      "outputs": [],
      "execution_count": null,
      "metadata": {
        "gather": {
          "logged": 1727212125015
        }
      },
      "id": "85be781d"
    },
    {
      "cell_type": "code",
      "source": [
        "get_cosine_similarity(image_emb1, text1)"
      ],
      "outputs": [],
      "execution_count": null,
      "metadata": {
        "gather": {
          "logged": 1727212125419
        }
      },
      "id": "4f3a9b45"
    },
    {
      "cell_type": "code",
      "source": [
        "text2 = text_embedding(\"a car\")"
      ],
      "outputs": [],
      "execution_count": null,
      "metadata": {
        "gather": {
          "logged": 1727212125761
        }
      },
      "id": "c89537cd"
    },
    {
      "cell_type": "code",
      "source": [
        "get_cosine_similarity(image_emb1, text2)"
      ],
      "outputs": [],
      "execution_count": null,
      "metadata": {
        "gather": {
          "logged": 1727212126163
        }
      },
      "id": "e199f7df"
    },
    {
      "cell_type": "markdown",
      "source": [
        "## Multiple prompts"
      ],
      "metadata": {},
      "id": "4fbc8b9f"
    },
    {
      "cell_type": "code",
      "source": [
        "plt.imshow(Image.open(requests.get(imageurl1, stream=True).raw))\n",
        "plt.axis(\"off\")\n",
        "plt.show()"
      ],
      "outputs": [],
      "execution_count": null,
      "metadata": {
        "gather": {
          "logged": 1727212126638
        }
      },
      "id": "5f9d2f85"
    },
    {
      "cell_type": "code",
      "source": [
        "prompts = [\n",
        "    \"bird\",\n",
        "    \"a truck\",\n",
        "    \"a car\",\n",
        "    \"a blue car\",\n",
        "    \"a white car\",\n",
        "    \"a BMW white car\",\n",
        "    \"a tesla car\",\n",
        "    \"a mercedes car\",\n",
        "    \"a man\",\n",
        "    \"a ford car\",\n",
        "]"
      ],
      "outputs": [],
      "execution_count": null,
      "metadata": {
        "gather": {
          "logged": 1727212126907
        }
      },
      "id": "947db62b"
    },
    {
      "cell_type": "code",
      "source": [
        "df = similarity_results(image_emb1, prompts)\n",
        "\n",
        "cm = sns.light_palette(\"green\", as_cmap=True)\n",
        "df.style.background_gradient(cmap=cm)"
      ],
      "outputs": [],
      "execution_count": null,
      "metadata": {
        "gather": {
          "logged": 1727212127392
        }
      },
      "id": "8090b99f"
    },
    {
      "cell_type": "code",
      "source": [
        "imageurl2 = \"https://github.com/retkowsky/images/blob/master/xboxps5.jpg?raw=true\"\n",
        "image_emb2 = image_embedding(imageurl2)\n",
        "\n",
        "plt.imshow(Image.open(requests.get(imageurl2, stream=True).raw))\n",
        "plt.axis(\"off\")\n",
        "plt.show()"
      ],
      "outputs": [],
      "execution_count": null,
      "metadata": {
        "gather": {
          "logged": 1727212127866
        }
      },
      "id": "af621ab5"
    },
    {
      "cell_type": "code",
      "source": [
        "prompts = [\n",
        "    \"PS5\",\n",
        "    \"Xbox\",\n",
        "    \"play station\",\n",
        "    \"Sony\",\n",
        "    \"controller\",\n",
        "    \"Microsoft\",\n",
        "    \"games console\",\n",
        "    \"guitar\",\n",
        "    \"fish\",\n",
        "    \"apple\",\n",
        "    \"car\",\n",
        "    \"street\",\n",
        "    \"truck\",\n",
        "    \"Miami\",\n",
        "    \"black controller\",\n",
        "    \"white controller\",\n",
        "]"
      ],
      "outputs": [],
      "execution_count": null,
      "metadata": {
        "gather": {
          "logged": 1727212128330
        }
      },
      "id": "c6dad498"
    },
    {
      "cell_type": "code",
      "source": [
        "df = similarity_results(image_emb2, prompts)\n",
        "\n",
        "cm = sns.light_palette(\"green\", as_cmap=True)\n",
        "df.style.background_gradient(cmap=cm)"
      ],
      "outputs": [],
      "execution_count": null,
      "metadata": {
        "gather": {
          "logged": 1727212129176
        }
      },
      "id": "6bab036a"
    },
    {
      "cell_type": "code",
      "source": [
        "imageurl3 = \"https://github.com/retkowsky/images/blob/master/sodas.jpg?raw=true\"\n",
        "image_emb3 = image_embedding(imageurl3)\n",
        "\n",
        "plt.imshow(Image.open(requests.get(imageurl3, stream=True).raw))\n",
        "plt.axis(\"off\")\n",
        "plt.show()"
      ],
      "outputs": [],
      "execution_count": null,
      "metadata": {
        "gather": {
          "logged": 1727212130714
        }
      },
      "id": "79d0ef78"
    },
    {
      "cell_type": "code",
      "source": [
        "prompts = [\n",
        "    \"a can\",\n",
        "    \"coca cola\",\n",
        "    \"pepsi\",\n",
        "    \"7 up\",\n",
        "    \"water\",\n",
        "    \"wine\",\n",
        "    \"beer\",\n",
        "    \"gin\",\n",
        "    \"alcohol\",\n",
        "    \"lemon\",\n",
        "    \"drink\",\n",
        "    \"I do not know\",\n",
        "    \"food\",\n",
        "    \"soda bottles\",\n",
        "    \"coke bottle\",\n",
        "]"
      ],
      "outputs": [],
      "execution_count": null,
      "metadata": {
        "gather": {
          "logged": 1727212131029
        }
      },
      "id": "cb3b2cb3"
    },
    {
      "cell_type": "code",
      "source": [
        "df = similarity_results(image_emb3, prompts)\n",
        "\n",
        "cm = sns.light_palette(\"green\", as_cmap=True)\n",
        "df.style.background_gradient(cmap=cm)"
      ],
      "outputs": [],
      "execution_count": null,
      "metadata": {
        "gather": {
          "logged": 1727212131905
        }
      },
      "id": "843b8aa9"
    },
    {
      "cell_type": "markdown",
      "source": [
        "## Search example using a local image file"
      ],
      "metadata": {},
      "id": "26447aa7"
    },
    {
      "cell_type": "code",
      "source": [
        "imageurl5 = \"https://github.com/retkowsky/images/blob/master/i4.jpg?raw=true\"\n",
        "image_emb5 = image_embedding(imageurl5)\n",
        "\n",
        "plt.imshow(Image.open(requests.get(imageurl5, stream=True).raw))\n",
        "plt.axis(\"off\")\n",
        "plt.show()"
      ],
      "outputs": [],
      "execution_count": null,
      "metadata": {
        "gather": {
          "logged": 1727212132357
        }
      },
      "id": "7ec769cd"
    },
    {
      "cell_type": "code",
      "source": [
        "imageurl6 = \"https://github.com/retkowsky/images/blob/master/i4_2.jpg?raw=true\"\n",
        "whitebmw = image_embedding(imageurl6)\n",
        "\n",
        "plt.imshow(Image.open(requests.get(imageurl6, stream=True).raw))\n",
        "plt.axis(\"off\")\n",
        "plt.show()"
      ],
      "outputs": [],
      "execution_count": null,
      "metadata": {
        "gather": {
          "logged": 1727212134312
        }
      },
      "id": "fab34293"
    },
    {
      "cell_type": "code",
      "source": [
        "imageurl7 = \"https://github.com/retkowsky/images/blob/master/cat.jpg?raw=true\"\n",
        "cat = image_embedding(imageurl7)\n",
        "\n",
        "plt.imshow(Image.open(requests.get(imageurl7, stream=True).raw))\n",
        "plt.axis(\"off\")\n",
        "plt.show()"
      ],
      "outputs": [],
      "execution_count": null,
      "metadata": {
        "gather": {
          "logged": 1727212135999
        }
      },
      "id": "3d6b5ba8"
    },
    {
      "cell_type": "code",
      "source": [
        "get_cosine_similarity(image_emb5, image_emb5)"
      ],
      "outputs": [],
      "execution_count": null,
      "metadata": {
        "gather": {
          "logged": 1727212136535
        }
      },
      "id": "ce98536e"
    },
    {
      "cell_type": "code",
      "source": [
        "get_cosine_similarity(image_emb5, whitebmw)"
      ],
      "outputs": [],
      "execution_count": null,
      "metadata": {
        "gather": {
          "logged": 1727212136908
        }
      },
      "id": "ff89552f"
    },
    {
      "cell_type": "code",
      "source": [
        "get_cosine_similarity(image_emb5, cat)"
      ],
      "outputs": [],
      "execution_count": null,
      "metadata": {
        "gather": {
          "logged": 1727212137219
        }
      },
      "id": "b064d5c7"
    },
    {
      "cell_type": "markdown",
      "source": [
        "## Using a local image file (not from an url)"
      ],
      "metadata": {},
      "id": "c18bd28a"
    },
    {
      "cell_type": "code",
      "source": [
        "local_image = \"images/car.png\""
      ],
      "outputs": [],
      "execution_count": null,
      "metadata": {
        "gather": {
          "logged": 1727212137486
        }
      },
      "id": "711bb1f4"
    },
    {
      "cell_type": "code",
      "source": [
        "viewimage(filename=local_image)"
      ],
      "outputs": [],
      "execution_count": null,
      "metadata": {
        "gather": {
          "logged": 1727212137824
        }
      },
      "id": "144e8e90"
    },
    {
      "cell_type": "code",
      "source": [
        "with open(local_image, \"rb\") as f:\n",
        "    data = f.read()"
      ],
      "outputs": [],
      "execution_count": null,
      "metadata": {
        "gather": {
          "logged": 1727212138112
        }
      },
      "id": "403fcd5d"
    },
    {
      "cell_type": "code",
      "source": [
        "# header to use for local image file\n",
        "headers_local = {\n",
        "    \"Content-type\": \"application/octet-stream\",\n",
        "    \"Ocp-Apim-Subscription-Key\": key,\n",
        "}"
      ],
      "outputs": [],
      "execution_count": null,
      "metadata": {
        "gather": {
          "logged": 1727212138356
        }
      },
      "id": "317b2f6b"
    },
    {
      "cell_type": "code",
      "source": [
        "r = requests.post(vec_img_url, data=data, headers=headers_local)\n",
        "image_emb = r.json()[\"vector\"]"
      ],
      "outputs": [],
      "execution_count": null,
      "metadata": {
        "gather": {
          "logged": 1727212138630
        }
      },
      "id": "316a3ebd"
    },
    {
      "cell_type": "code",
      "source": [
        "prompts = [\n",
        "    \"bird\",\n",
        "    \"a truck\",\n",
        "    \"a car\",\n",
        "    \"a blue car\",\n",
        "    \"a white car\",\n",
        "    \"a BMW white car\",\n",
        "    \"a tesla car\",\n",
        "    \"a mercedes car\",\n",
        "    \"a man\",\n",
        "    \"a ford car\",\n",
        "    \"an i3 bmw\",\n",
        "    \"an i4 bmw\",\n",
        "    \"a 218 bmw\",\n",
        "]"
      ],
      "outputs": [],
      "execution_count": null,
      "metadata": {
        "gather": {
          "logged": 1727212138904
        }
      },
      "id": "f18c09d6"
    },
    {
      "cell_type": "code",
      "source": [
        "df = similarity_results(image_emb, prompts)\n",
        "\n",
        "cm = sns.light_palette(\"green\", as_cmap=True)\n",
        "df.style.background_gradient(cmap=cm)"
      ],
      "outputs": [],
      "execution_count": null,
      "metadata": {
        "gather": {
          "logged": 1727212139218
        }
      },
      "id": "5f9dd46d"
    }
  ],
  "metadata": {
    "kernel_info": {
      "name": "python310-sdkv2"
    },
    "kernelspec": {
      "name": "python310-sdkv2",
      "language": "python",
      "display_name": "Python 3.10 - SDK v2"
    },
    "language_info": {
      "name": "python",
      "version": "3.10.14",
      "mimetype": "text/x-python",
      "codemirror_mode": {
        "name": "ipython",
        "version": 3
      },
      "pygments_lexer": "ipython3",
      "nbconvert_exporter": "python",
      "file_extension": ".py"
    },
    "microsoft": {
      "ms_spell_check": {
        "ms_spell_check_language": "en"
      },
      "host": {
        "AzureML": {
          "notebookHasBeenCompleted": true
        }
      }
    },
    "nteract": {
      "version": "nteract-front-end@1.0.0"
    }
  },
  "nbformat": 4,
  "nbformat_minor": 5
}