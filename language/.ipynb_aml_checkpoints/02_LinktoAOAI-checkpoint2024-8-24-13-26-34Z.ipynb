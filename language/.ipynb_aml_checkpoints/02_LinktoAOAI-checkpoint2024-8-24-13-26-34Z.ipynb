{
  "cells": [
    {
      "cell_type": "markdown",
      "source": [
        "## Using Azure AI Services\n",
        "\n",
        "- Create Azure Multi Service Resource [Detailed Instructions](https://learn.microsoft.com/en-us/azure/ai-services/multi-service-resource?pivots=azportal)\n",
        "\n",
        "- Rename credentials_template.env to credentials.env \n",
        "- Fill in the credentials.env [Detailed Instructions](https://learn.microsoft.com/en-us/azure/ai-services/openai/quickstart?tabs=command-line%2Cpython-new&pivots=programming-language-python#retrieve-key-and-endpoint)\n"
      ],
      "metadata": {
        "nteract": {
          "transient": {
            "deleting": false
          }
        }
      }
    },
    {
      "cell_type": "code",
      "source": [
        "# Loads in environement varaibles from credentials.env. \n",
        "# Note that if you change the contents of credentials.env you will need to restart your python kernel as well as rerun this cell.\n",
        "import os\n",
        "from openai import AzureOpenAI\n",
        "from dotenv import load_dotenv\n",
        "load_dotenv(\"credentials.env\")\n",
        "\n",
        "endpoint = os.environ.get(\"AZURE_OPENAI_ENDPOINT\")\n",
        "api_key = os.environ.get(\"AZURE_OPENAI_API_KEY\")\n",
        "deployment = os.environ.get(\"AZURE_OPENAI_DEPLOYMENT_ID\")\n",
        "\n"
      ],
      "outputs": [],
      "execution_count": 2,
      "metadata": {
        "gather": {
          "logged": 1724793108558
        }
      }
    },
    {
      "cell_type": "code",
      "source": [
        "print(\"Endpoint: \", endpoint)\n",
        "print(\"API Key: \", api_key)\n",
        "print(\"Deployment: \", deployment)"
      ],
      "outputs": [
        {
          "output_type": "stream",
          "name": "stdout",
          "text": "Endpoint:  https://openai-universal.openai.azure.com/openai/deployments/gpt-4o/chat/completions?api-version=2023-03-15-preview\nAPI Key:  2478cec39396486b9f111d7c6efa5599\nDeployment:  gpt-4o\n"
        }
      ],
      "execution_count": 3,
      "metadata": {
        "gather": {
          "logged": 1724793110107
        }
      }
    },
    {
      "cell_type": "code",
      "source": [
        "client = AzureOpenAI(\n",
        "    azure_endpoint=endpoint,\n",
        "    api_key=api_key,\n",
        "    api_version=\"2024-02-01\",\n",
        ")"
      ],
      "outputs": [],
      "execution_count": 4,
      "metadata": {
        "gather": {
          "logged": 1724793112611
        }
      }
    },
    {
      "cell_type": "code",
      "source": [
        "\n",
        "response = client.chat.completions.create(\n",
        "    model=deployment,\n",
        "    messages=[\n",
        "        {\"role\": \"system\", \"content\": \"You are a helpful assistant.\"},\n",
        "        {\"role\": \"user\", \"content\": \"Does Azure OpenAI support customer managed keys?\"},\n",
        "        {\"role\": \"assistant\", \"content\": \"Yes, customer managed keys are supported by Azure OpenAI.\"},\n",
        "        {\"role\": \"user\", \"content\": \"Do other Azure AI services support this too?\"}\n",
        "    ]\n",
        ")\n",
        "\n",
        "print(response.choices[0].message.content)"
      ],
      "outputs": [
        {
          "output_type": "stream",
          "name": "stdout",
          "text": "Yes, other Azure AI services also support customer managed keys (CMKs). Customer managed keys provide extra control over encryption keys and help meet compliance requirements. Some of the Azure AI services that support customer managed keys include:\n\n1. **Azure Cognitive Services**: Various services under this umbrella, such as Text Analytics, Computer Vision, and Speech Services, support CMKs for data encryption at rest.\n   \n2. **Azure Machine Learning**: It supports customer managed keys for encrypting data stored in Azure Storage, Azure SQL Database, and other services associated with the machine learning workspace.\n\n3. **Azure Synapse Analytics**: This service, which integrates big data and data warehousing, allows for customer managed keys to encrypt data.\n\nSupport for customer managed keys allows you to have more control and flexibility over the encryption keys used to protect your data, meeting stringent compliance and security requirements.\n\nFor the most up-to-date information, you should refer to the official Azure documentation as support for services and features can evolve.\n"
        }
      ],
      "execution_count": 5,
      "metadata": {
        "gather": {
          "logged": 1724793116798
        }
      }
    },
    {
      "cell_type": "code",
      "source": [
        "article = \"\"\"About us as a Co-operative\n",
        "Who owns Co-op?\n",
        "\n",
        "At Co-op, we’re not a private company and we don’t have shareholders. We’re owned by our Members – everyone who signs up for just £1 owns part of the Co-op.\n",
        "\n",
        "What does being a Co-op Member mean?\n",
        "\n",
        "We are owned by Co-op Members, they get to make the decisions around here like choosing where we spent our profits, shaping our products and services, and even picking our leaders.\n",
        "\n",
        "How do I contribute to Co-op decision making?\n",
        "\n",
        "Besides voting in our AGM, you can also elect members like you to represent you on our Members' Council. Or you can run to be Council Member yourself.  The Members’ Council is a 100-strong board that represents our members at the highest level.\n",
        "\n",
        "Can I really help choose Co-op’s leaders?\n",
        "\n",
        "Yes, you can. Our National Members’ Council is made up of 100 Co-op Members from around the UK. It’s made up of Co-op Members and our colleagues, too. They meet six times a year to discuss the things Co-op is doing as a business. Here’s how to become a Co-op Council Member and where you can learn more about how to vote.\n",
        "\n",
        "Where does Co-op spend their profits?\n",
        "\n",
        "There’s lots of information about which causes we put our profits into in our Annual Report. Download the latest report.\n",
        "\n",
        " \n",
        "\n",
        "\n",
        "Co-op offers and discounts\n",
        "What are Member Prices?\n",
        "\n",
        "They are lower prices that you only get by being a Co-op Member. The savings do add up. Our members pay less across the board, and get the best prices – saving up to £300 each year.\n",
        "\n",
        "Are Member Prices available in all Co-op stores?\n",
        "\n",
        "They’re available in most of our 2,500+ stores across the UK. There are some exceptions, including Midcounties, Central England, Southern or Chelmsford Star co-operatives. Check instore for details.\n",
        "\n",
        "How do I make sure I get Member Prices?\n",
        "\n",
        "It’s easy. Just scan your card or app at the till at participating stores.\n",
        "\n",
        "Do I get other discounts when I become a Co-op Member?\n",
        "\n",
        "Yes – plenty! Firstly, you get to pick from personalised offers every week, using the Co-op Members app. And you get discounts across Co-op services like Insurance, Funeralcare and Legal Services. Simply enter or quote your Co-op Membership number to receive the discount.\n",
        "\n",
        " \n",
        "\n",
        "\n",
        "Being a Co-op Member\n",
        "Why does membership cost £1?\n",
        "\n",
        "The £1 you put in pays for your share in the Co-op, making you an owner. It gives you a lot more than just deals. You have a say in how we’re run and which causes we put our profits in. And you enjoy Member Prices, discounts across Co-op and many more benefits.\n",
        "\n",
        "Is being a Co-op Member worth it?\n",
        "\n",
        "It certainly is. You can save money on every shop, with Member Prices. With lower prices and discounts across Co-op services, our members save up to £300 a year.\n",
        "\n",
        "Where else do I get discounts across Co-op?\n",
        "\n",
        "You get exclusive member discounts at Co-op Funeralcare, Insurance and and Legal Services. Simply enter or quote your Co-op Membership number to receive the discount.\n",
        "\n",
        "Do I get any benefits at Co-op Live?\n",
        "\n",
        "You can get pre-sale tickets for gigs at Co-op Live. Helping you be first in the queue for artists you love.\n",
        "\n",
        "Am I already a Co-op Member?\n",
        "\n",
        "You can buy a temporary membership card at any of our food stores. But, to become a full Co-op Member, you’ll need to register that card within 12 weeks of using it.\n",
        "\n",
        "How do I make my temporary membership permanent?\n",
        "\n",
        "You can register your temporary card by:\n",
        "\n",
        "Downloading the Co-op App from the App store;\n",
        "Visiting www.coop.co.uk/membership; or\n",
        "By phone: 0800 023 4708.\n",
        "Once you've registered as a member, we’ll send you a new membership card with the same number as your temporary card.\n",
        "\n",
        "Can I use my Co-op card in any Co-op?\n",
        "\n",
        "You can use it in most of our 2,500+ stores across the UK. There are some exceptions, including Midcounties, Central England, Southern or Chelmsford Star co-operatives, and franchise stores. Check instore for details.\n",
        "\n",
        "Are there different Co-op cards?\n",
        "\n",
        "East of England Co-op and Midlands Co-op are separate businesses, and use different coloured cards. You can’t use your blue Co-op Member card in their stores – you can use it across most Co-op UK stores.\n",
        "\n",
        "Help! I’ve lost my membership card. Can I get another one?\n",
        "\n",
        "Yes, tell us right away to make sure no-one else uses your card. You can do this online (through your membership account). We will cancel your existing card and create a new one with a new number.\n",
        "\n",
        " \n",
        "\n",
        "\n",
        "The causes you help support\n",
        "Is Co-op meat really 100% British?\n",
        "\n",
        "From sausage to steak, we’re supporting British farming communities by sourcing 100% of our fresh meat from Britain. It includes the beef in our sandwiches and chicken in our ready meals. We believe it’s only right to support local food and suppliers, especially when it’s so good.\n",
        "\n",
        "Don’t other supermarkets do 100% British meat?\n",
        "\n",
        "No, currently not one other supermarket sells 100% British fresh meat. But we think it’s the right thing to do.\n",
        "\n",
        "How is Fairtrade different?\n",
        "\n",
        "When you choose Fairtrade, you’re helping make a difference to farmers all over the world. It’s something we firmly believe in, which is why we’ve championed Fairtrade for over 30 years.\n",
        "\n",
        "How many Fairtrade products do you sell?\n",
        "\n",
        "We offer over 420 products – and counting! All our own-brand tea and coffee is Fairtrade. Plus, over 25 wines, chocolate, cocoa, and even roses.\n",
        "\n",
        "How much does Co-op support local charities?\n",
        "\n",
        "Together, we make a big difference. Co-op Members have raised over £100m for over 36,000 local causes across the UK.\n",
        "\n",
        "How does Co-op support local charities?\n",
        "\n",
        "We support local communities through our community partnerships and the Local Community Fund. It supports thousands of grassroots community projects and Co-op Members can choose which local causes we can help fund.\n",
        "\n",
        "Which charities does Co-op support?\n",
        "\n",
        "Since 2016, we’ve supported nearly 40,000 local causes. It can be as simple as a bus shelter or a more longterm venture, like a food and warm clothes sharing project.\n",
        "\n",
        "Can I get funding from Co-op for my charity or local cause?\n",
        "\n",
        "You can apply if you're a not-for-profit group that needs funding to deliver a specific project that benefits your local community. Learn more and make an application online.\"\"\"\n",
        "\n",
        "response = client.chat.completions.create(\n",
        "    model=deployment,\n",
        "    messages=[\n",
        "        {\"role\": \"system\", \"content\": \"You are a helpful assistant.\"},\n",
        "        {\"role\": \"user\", \"content\": f\"Consider this article: {article} Please create a 2 sentence summary\"}\n",
        "    ]\n",
        ")\n",
        "\n",
        "print(response.choices[0].message.content)"
      ],
      "outputs": [
        {
          "output_type": "stream",
          "name": "stdout",
          "text": "World Hydrography Day was celebrated with a reception at the International Maritime Organization's headquarters in London, highlighting the critical role of hydrography in ensuring safe, efficient, and sustainable navigation, and introducing the new IHO data standard S-100. The event also honored John Dillon-Leetch with the 2024 Alexander Dalrymple Award for his significant contributions to hydrography, particularly through his work with the Port of London Authority.\n"
        }
      ],
      "execution_count": 6,
      "metadata": {
        "gather": {
          "logged": 1724793123218
        }
      }
    }
  ],
  "metadata": {
    "kernel_info": {
      "name": "python38-azureml"
    },
    "kernelspec": {
      "name": "python38-azureml",
      "language": "python",
      "display_name": "Python 3.8 - AzureML"
    },
    "language_info": {
      "name": "python",
      "version": "3.9.19",
      "mimetype": "text/x-python",
      "codemirror_mode": {
        "name": "ipython",
        "version": 3
      },
      "pygments_lexer": "ipython3",
      "nbconvert_exporter": "python",
      "file_extension": ".py"
    },
    "microsoft": {
      "ms_spell_check": {
        "ms_spell_check_language": "en"
      },
      "host": {
        "AzureML": {
          "notebookHasBeenCompleted": true
        }
      }
    },
    "nteract": {
      "version": "nteract-front-end@1.0.0"
    }
  },
  "nbformat": 4,
  "nbformat_minor": 2
}