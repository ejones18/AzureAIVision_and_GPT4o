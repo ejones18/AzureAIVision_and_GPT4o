{
  "cells": [
    {
      "cell_type": "markdown",
      "source": [
        "## Using Azure AI Services\n",
        "\n",
        "- Create Azure Multi Service Resource [Detailed Instructions](https://learn.microsoft.com/en-us/azure/ai-services/multi-service-resource?pivots=azportal)\n",
        "\n",
        "- Rename credentials_template.env to credentials.env \n",
        "- Fill in the credentials.env [Detailed Instructions](https://learn.microsoft.com/en-us/azure/ai-services/openai/quickstart?tabs=command-line%2Cpython-new&pivots=programming-language-python#retrieve-key-and-endpoint)\n"
      ],
      "metadata": {
        "nteract": {
          "transient": {
            "deleting": false
          }
        }
      }
    },
    {
      "cell_type": "code",
      "source": [
        "# Loads in environement varaibles from credentials.env. \n",
        "# Note that if you change the contents of credentials.env you will need to restart your python kernel as well as rerun this cell.\n",
        "import os\n",
        "from openai import AzureOpenAI\n",
        "from dotenv import load_dotenv\n",
        "load_dotenv(\"credentials.env\")\n",
        "\n",
        "endpoint = os.environ.get(\"AZURE_OPENAI_ENDPOINT\")\n",
        "api_key = os.environ.get(\"AZURE_OPENAI_API_KEY\")\n",
        "deployment = os.environ.get(\"AZURE_OPENAI_DEPLOYMENT_ID\")\n",
        "\n"
      ],
      "outputs": [],
      "execution_count": 2,
      "metadata": {
        "gather": {
          "logged": 1724793108558
        }
      }
    },
    {
      "cell_type": "code",
      "source": [
        "print(\"Endpoint: \", endpoint)\n",
        "print(\"API Key: \", api_key)\n",
        "print(\"Deployment: \", deployment)"
      ],
      "outputs": [
        {
          "output_type": "stream",
          "name": "stdout",
          "text": "Endpoint:  https://openai-universal.openai.azure.com/openai/deployments/gpt-4o/chat/completions?api-version=2023-03-15-preview\nAPI Key:  2478cec39396486b9f111d7c6efa5599\nDeployment:  gpt-4o\n"
        }
      ],
      "execution_count": 3,
      "metadata": {
        "gather": {
          "logged": 1724793110107
        }
      }
    },
    {
      "cell_type": "code",
      "source": [
        "client = AzureOpenAI(\n",
        "    azure_endpoint=endpoint,\n",
        "    api_key=api_key,\n",
        "    api_version=\"2024-02-01\",\n",
        ")"
      ],
      "outputs": [],
      "execution_count": 4,
      "metadata": {
        "gather": {
          "logged": 1724793112611
        }
      }
    },
    {
      "cell_type": "code",
      "source": [
        "\n",
        "response = client.chat.completions.create(\n",
        "    model=deployment,\n",
        "    messages=[\n",
        "        {\"role\": \"system\", \"content\": \"You are a helpful assistant.\"},\n",
        "        {\"role\": \"user\", \"content\": \"Does Azure OpenAI support customer managed keys?\"},\n",
        "        {\"role\": \"assistant\", \"content\": \"Yes, customer managed keys are supported by Azure OpenAI.\"},\n",
        "        {\"role\": \"user\", \"content\": \"Do other Azure AI services support this too?\"}\n",
        "    ]\n",
        ")\n",
        "\n",
        "print(response.choices[0].message.content)"
      ],
      "outputs": [
        {
          "output_type": "stream",
          "name": "stdout",
          "text": "Yes, other Azure AI services also support customer managed keys (CMKs). Customer managed keys provide extra control over encryption keys and help meet compliance requirements. Some of the Azure AI services that support customer managed keys include:\n\n1. **Azure Cognitive Services**: Various services under this umbrella, such as Text Analytics, Computer Vision, and Speech Services, support CMKs for data encryption at rest.\n   \n2. **Azure Machine Learning**: It supports customer managed keys for encrypting data stored in Azure Storage, Azure SQL Database, and other services associated with the machine learning workspace.\n\n3. **Azure Synapse Analytics**: This service, which integrates big data and data warehousing, allows for customer managed keys to encrypt data.\n\nSupport for customer managed keys allows you to have more control and flexibility over the encryption keys used to protect your data, meeting stringent compliance and security requirements.\n\nFor the most up-to-date information, you should refer to the official Azure documentation as support for services and features can evolve.\n"
        }
      ],
      "execution_count": 5,
      "metadata": {
        "gather": {
          "logged": 1724793116798
        }
      }
    },
    {
      "cell_type": "code",
      "source": [
        "article = \"\"\"World Hydrography Day is an important date in the calendar for everyone involved in the seabed mapping community and all those who value the vital work of hydrography, and this year was no exception. The UK Hydrographic Office marked the occasion with a reception held at the International Maritime Organization (IMO) headquarters in London, on the banks of the Thames.\n",
        "We were delighted to be joined by many colleagues, partners and leaders of the maritime industry for an evening to reflect on and celebrate the importance of hydrography in the maritime sector. It was also a welcome opportunity to look ahead at what developments and innovations are around the corner. Hydrography underpins the maritime industry; without it, we wouldn’t be able to chart our waters and ensure safe and efficient navigation. Its importance mustn’t be understated.\n",
        "Kicking off the evening, IMO Secretary-General Arsenio Dominguez welcomed all guests to the IMO and spoke warmly of the importance of hydrography for safe navigation on a global scale and the close links between the hydrographic community and the wider shipping community, including the longstanding relationship between the IMO Secretariat and the UKHO.\n",
        "He was followed by Dr Mathias Jonas, Secretary General of the International Hydrography Organization (IHO), who shared his thoughts on how hydrography is evolving to support shipping’s digital transformation and the opportunities presented by the new IHO data standard S-100. Richard Bell of the Maritime and Coastguard Agency then discussed the work done by the UKHO and the MCA to ensure the fulfilment of our SOLAS obligations in UK waters.\n",
        "Rear Admiral Angus Essenhigh OBE, National Hydrographer, also spoke on the transformative time faced by the hydrographic community and, in an era of exciting technological advancements, of all that we can achieve with a spirit of innovation and a collaborative mindset. Angus highlighted the UKHO’s work to prepare for S-100, sharing the benefits for the end-user, from aiding passage planning to supporting safer navigation and taking us one step closer to fully optimised voyages.\n",
        "Safer, more efficient, and sustainable marine activities\n",
        "Referencing this year’s World Hydrography Day theme of ‘for safer, more efficient, and sustainable marine activities’, Angus highlighted the importance of marine data across all aspects of the maritime sphere. These include supporting safety and security and unlocking new efficiencies in seaborne trade to deliver on our shared sustainability commitments, including the IMO’s decarbonisation goals. Angus concluded by encouraging everyone to play their part to raise awareness of the importance of hydrography and to work together to make our maritime activities ‘even safer, even more efficient, and even more sustainable.\n",
        "The evening also saw John Dillon-Leetch, Port Hydrographer at the Port of London Authority (PLA), recognised for his outstanding contribution to hydrography. He was presented with the 2024 Alexander Dalrymple Award. The accolade is named in honour of the first Hydrographer of the British Admiralty and recognises outstanding contributions to the field of hydrography.\n",
        "John Dillon-Leetch has made a huge contribution during his tenure at the Port of London Authority, not least through his support for the UKHO’s Memorandum of Understanding with the PLA, one of the first such agreements of its kind and which has heralded a new era of collaboration between the UKHO and the PLA.\n",
        "Speaking after receiving his award, John Dillon-Leetch said:\n",
        "I see the award as recognition of the Port of London Authority’s consistent support and the value it places in the positive impact that hydrography brings to improving safety, efficiency and sustainability on the Thames, as well as the wider ports and shipping industry.\"\"\"\n",
        "\n",
        "response = client.chat.completions.create(\n",
        "    model=deployment,\n",
        "    messages=[\n",
        "        {\"role\": \"system\", \"content\": \"You are a helpful assistant.\"},\n",
        "        {\"role\": \"user\", \"content\": f\"Consider this article: {article} Please create a 2 sentence summary\"}\n",
        "    ]\n",
        ")\n",
        "\n",
        "print(response.choices[0].message.content)"
      ],
      "outputs": [
        {
          "output_type": "stream",
          "name": "stdout",
          "text": "World Hydrography Day was celebrated with a reception at the International Maritime Organization's headquarters in London, highlighting the critical role of hydrography in ensuring safe, efficient, and sustainable navigation, and introducing the new IHO data standard S-100. The event also honored John Dillon-Leetch with the 2024 Alexander Dalrymple Award for his significant contributions to hydrography, particularly through his work with the Port of London Authority.\n"
        }
      ],
      "execution_count": 6,
      "metadata": {
        "gather": {
          "logged": 1724793123218
        }
      }
    }
  ],
  "metadata": {
    "kernel_info": {
      "name": "openai_env_upskilling"
    },
    "kernelspec": {
      "name": "openai_env_upskilling",
      "language": "python",
      "display_name": "Python openai_env_upskilling"
    },
    "language_info": {
      "name": "python",
      "version": "3.10.14",
      "mimetype": "text/x-python",
      "codemirror_mode": {
        "name": "ipython",
        "version": 3
      },
      "pygments_lexer": "ipython3",
      "nbconvert_exporter": "python",
      "file_extension": ".py"
    },
    "microsoft": {
      "ms_spell_check": {
        "ms_spell_check_language": "en"
      },
      "host": {
        "AzureML": {
          "notebookHasBeenCompleted": true
        }
      }
    },
    "nteract": {
      "version": "nteract-front-end@1.0.0"
    }
  },
  "nbformat": 4,
  "nbformat_minor": 2
}