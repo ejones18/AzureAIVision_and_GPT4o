{
  "cells": [
    {
      "cell_type": "markdown",
      "source": [
        "## Use the Azure AI Language Service\n",
        "First make sure you have created an AML environment and jupyter kernel as in Notebook 1.\n",
        "\n",
        "Test that you have selected the correct code by running the cell below."
      ],
      "metadata": {
        "nteract": {
          "transient": {
            "deleting": false
          }
        }
      }
    },
    {
      "cell_type": "code",
      "source": [
        "import emoji\n",
        "print(emoji.emojize('Python is :thumbs_up:'))"
      ],
      "outputs": [
        {
          "output_type": "stream",
          "name": "stdout",
          "text": "Python is 👍\n"
        }
      ],
      "execution_count": 2,
      "metadata": {
        "gather": {
          "logged": 1727184492526
        }
      }
    },
    {
      "cell_type": "markdown",
      "source": [
        "- Create Azure AI Language Resource \n",
        "- Rename credentials_template.env to credentials.env (if not already)\n",
        "- Fill in the endpoint and key in credentials.env \n",
        "[Detailed Instructions](https://learn.microsoft.com/en-us/azure/ai-services/language-service/language-detection/quickstart?tabs=windows&pivots=programming-language-python)"
      ],
      "metadata": {}
    },
    {
      "cell_type": "code",
      "source": [
        "# Loads in environement varaibles from credentials.env. \n",
        "# Note that if you change the contents of credentials.env you will need to restart your python kernel as well as rerun this cell.\n",
        "import os\n",
        "from azure.ai.textanalytics import TextAnalyticsClient\n",
        "from azure.core.credentials import AzureKeyCredential\n",
        "from dotenv import load_dotenv\n",
        "load_dotenv(\"credentials.env\")\n",
        "\n",
        "endpoint = os.environ.get(\"AZURE_LANGUAGE_ENDPOINT\")\n",
        "api_key = os.environ.get(\"AZURE_LANGUAGE_KEY\")\n",
        "\n",
        "\n"
      ],
      "outputs": [],
      "execution_count": 3,
      "metadata": {
        "gather": {
          "logged": 1727184494596
        }
      }
    },
    {
      "cell_type": "code",
      "source": [
        "print(\"Endpoint: \", endpoint)\n",
        "print(\"API Key: \", api_key) "
      ],
      "outputs": [
        {
          "output_type": "stream",
          "name": "stdout",
          "text": "Endpoint:  https://language-sa.cognitiveservices.azure.com/\nAPI Key:  be87a11bd52e4e97aa698f564026b2a4\n"
        }
      ],
      "execution_count": 4,
      "metadata": {
        "gather": {
          "logged": 1727184496949
        }
      }
    },
    {
      "cell_type": "code",
      "source": [
        "# Create credentials and Language Client (note this was previously called text analytics)\n",
        "\n",
        "credential = AzureKeyCredential(api_key)\n",
        "client = TextAnalyticsClient(endpoint=endpoint, credential=credential)"
      ],
      "outputs": [],
      "execution_count": 5,
      "metadata": {
        "gather": {
          "logged": 1727184500508
        }
      }
    },
    {
      "cell_type": "markdown",
      "source": [
        "#### Language Detection\n",
        "\n",
        "Try replacing the text you give the detector to give different results."
      ],
      "metadata": {
        "nteract": {
          "transient": {
            "deleting": false
          }
        }
      }
    },
    {
      "cell_type": "code",
      "source": [
        "\n",
        "documents = [\"Ce document est rédigé en Français.\"]\n",
        "\n",
        "\n",
        "response = client.detect_language(documents = documents, country_hint = 'us')[0]\n",
        "print(\"Language: \", response.primary_language.name)"
      ],
      "outputs": [
        {
          "output_type": "stream",
          "name": "stdout",
          "text": "Language:  French\n"
        }
      ],
      "execution_count": 6,
      "metadata": {
        "gather": {
          "logged": 1727184503066
        }
      }
    },
    {
      "cell_type": "markdown",
      "source": [
        "#### Sentiment Analysis\n",
        "\n",
        "Try replacing the text you give the detector to give different results. "
      ],
      "metadata": {
        "nteract": {
          "transient": {
            "deleting": false
          }
        }
      }
    },
    {
      "cell_type": "code",
      "source": [
        "documents = [\n",
        "    \"frequently visit their branch on High Ash Drive in Leeds. Their staff are helpful, courteous and serve with a smile. It is open for a longer period daily(8am to 10pm) which makes it very useful for last minute purchases. Parking can be an issue sometimes but it is because it is in a residential area. Never crowded. Most of the daily/frequently used items are available. There are a couple of mini-sainsburys nearby but I didn't find them useful.\"\n",
        "    \"If there was an award for the best Co-op Food store I know, I'd say it should go to 311 Lower Addiscombe Road branch in Croydon. The team here are excellent, friendly, helpful and dedicated. Pretty much every delivery is spot on and on time. On the very rare occasion of a delivery delay with their 3rd party delivery company, I am sent a text message from Co-op Food within my delivery window with a notification of the delay and that the team is doing all they can to deliver the goods. I even called the branch today to check stock of an item before placing an order online and the chap who answered the phone was very polite, genuinely happy to help and also has a great sense of humour. The phone was answered very quickly as well. My apologies as I forgot to ask for his name but wanted to give 5 star feedback for his and his team's amazing customer service. Thank you...\"\n",
        "    \"I’d like to praise certain members of staff in the kiln road, Benfleet Essex store, Their are two very lovely friendly ladies who are always so happy & eager to serve me, they are so bubbly always smiling & defiantly make this Co-ops enjoyable please to shop they make me feel like their my friend's, the names of these ladies is Julie & Jill & I must say I look forward to popping in & seeing their lovely happy faces. Not forgetting the young Red head boy who also is very helpful & serves me with great customer communication skills, hope these 3 members get noticed for their hard work.\"\n",
        "]\n",
        "\n",
        "result = client.analyze_sentiment(documents, show_opinion_mining=True)\n",
        "doc_result = [doc for doc in result if not doc.is_error]\n",
        "\n",
        "\n",
        "for document in doc_result:\n",
        "    print(\"Document Sentiment: {}\".format(document.sentiment))\n",
        "    print(\"Overall scores: positive={0:.2f}; neutral={1:.2f}; negative={2:.2f} \\n\".format(\n",
        "        document.confidence_scores.positive,\n",
        "        document.confidence_scores.neutral,\n",
        "        document.confidence_scores.negative,\n",
        "        ))"
      ],
      "outputs": [
        {
          "output_type": "stream",
          "name": "stdout",
          "text": "Document Sentiment: mixed\nOverall scores: positive=0.81; neutral=0.04; negative=0.16 \n\n"
        }
      ],
      "execution_count": 11,
      "metadata": {
        "gather": {
          "logged": 1727185051474
        },
        "jupyter": {
          "outputs_hidden": false,
          "source_hidden": false
        },
        "nteract": {
          "transient": {
            "deleting": false
          }
        }
      }
    },
    {
      "cell_type": "markdown",
      "source": [
        "#### Named Entity Extraction\n",
        "\n",
        "Try replacing the text you give the detector to give different results. \n"
      ],
      "metadata": {
        "nteract": {
          "transient": {
            "deleting": false
          }
        }
      }
    },
    {
      "cell_type": "code",
      "source": [
        "documents = [\"\"\"The board oversees the overall strategy and comprises members elected by the Co-op’s members, reflecting a strong commitment to co-operative values. The board includes Independent Non-Executive Directors (INEDs) such as Lord Victor Adebowale, Luke Jensen, Adrian Marsh, and Rahul Powar. It also features Member Nominated Directors (MNDs) including Kate Allum, Margaret Casely-Hayford, Sarah McCarthy-Fry, and Christine Tacon. Additionally, the board has Executive Directors like Rachel Izzard (Chief Finance Officer) and Shirine Khoury-Haq (CEO). Moni Mannings serves as the Senior Independent Director, and Debbie White is the Chair.\n",
        "\n",
        "The executive team is responsible for the day-to-day operations of the Co-op. This team includes Shirine Khoury-Haq as the CEO, Rachel Izzard as the Chief Finance Officer, and Dominic Kendal-Ward as the Group Secretary and General Counsel.\n",
        "\n",
        "Executive Directors, who are Co-op employees, manage daily business activities and are subject to election by members at the first Annual General Meeting (AGM) following their appointment and every three years after that. INEDs, who are not Co-op employees, bring professional industry knowledge to the board and require member votes for continued tenure at the first AGM after their appointment. MNDs are directly elected by members to ensure their voices are heard at the highest level, serving three-year terms.\"\"\"]\n",
        "result = client.recognize_entities(documents = documents)[0]\n",
        "\n",
        "print(\"Named Entities:\\n\")\n",
        "for entity in result.entities:\n",
        "    print(\"Text: \\t\", entity.text, \"\\nCategory: \\t\", entity.category, \"\\nSubCategory: \\t\", entity.subcategory,\n",
        "            \"\\nConfidence Score: \\t\", round(entity.confidence_score, 2), \"\\nLength: \\t\", entity.length, \"\\nOffset: \\t\", entity.offset, \"\\n\")\n"
      ],
      "outputs": [
        {
          "output_type": "stream",
          "name": "stdout",
          "text": "Named Entities:\n\nText: \t strategy \nCategory: \t Skill \nSubCategory: \t None \nConfidence Score: \t 0.86 \nLength: \t 8 \nOffset: \t 31 \n\nText: \t members \nCategory: \t PersonType \nSubCategory: \t None \nConfidence Score: \t 0.96 \nLength: \t 7 \nOffset: \t 54 \n\nText: \t Co-op \nCategory: \t Organization \nSubCategory: \t None \nConfidence Score: \t 0.95 \nLength: \t 5 \nOffset: \t 77 \n\nText: \t members \nCategory: \t PersonType \nSubCategory: \t None \nConfidence Score: \t 0.92 \nLength: \t 7 \nOffset: \t 85 \n\nText: \t co-operative \nCategory: \t Skill \nSubCategory: \t None \nConfidence Score: \t 0.96 \nLength: \t 12 \nOffset: \t 128 \n\nText: \t Independent Non-Executive Directors \nCategory: \t PersonType \nSubCategory: \t None \nConfidence Score: \t 0.82 \nLength: \t 35 \nOffset: \t 168 \n\nText: \t Victor Adebowale \nCategory: \t Person \nSubCategory: \t None \nConfidence Score: \t 0.95 \nLength: \t 16 \nOffset: \t 225 \n\nText: \t Luke Jensen \nCategory: \t Person \nSubCategory: \t None \nConfidence Score: \t 1.0 \nLength: \t 11 \nOffset: \t 243 \n\nText: \t Adrian Marsh \nCategory: \t Person \nSubCategory: \t None \nConfidence Score: \t 1.0 \nLength: \t 12 \nOffset: \t 256 \n\nText: \t Rahul Powar \nCategory: \t Person \nSubCategory: \t None \nConfidence Score: \t 1.0 \nLength: \t 11 \nOffset: \t 274 \n\nText: \t Member Nominated Directors \nCategory: \t PersonType \nSubCategory: \t None \nConfidence Score: \t 0.83 \nLength: \t 26 \nOffset: \t 304 \n\nText: \t Kate Allum \nCategory: \t Person \nSubCategory: \t None \nConfidence Score: \t 1.0 \nLength: \t 10 \nOffset: \t 348 \n\nText: \t Margaret Casely-Hayford \nCategory: \t Person \nSubCategory: \t None \nConfidence Score: \t 0.99 \nLength: \t 23 \nOffset: \t 360 \n\nText: \t Sarah McCarthy-Fry \nCategory: \t Person \nSubCategory: \t None \nConfidence Score: \t 1.0 \nLength: \t 18 \nOffset: \t 385 \n\nText: \t Christine Tacon \nCategory: \t Person \nSubCategory: \t None \nConfidence Score: \t 1.0 \nLength: \t 15 \nOffset: \t 409 \n\nText: \t Executive Directors \nCategory: \t PersonType \nSubCategory: \t None \nConfidence Score: \t 0.61 \nLength: \t 19 \nOffset: \t 454 \n\nText: \t Rachel Izzard \nCategory: \t Person \nSubCategory: \t None \nConfidence Score: \t 1.0 \nLength: \t 13 \nOffset: \t 479 \n\nText: \t Chief Finance Officer \nCategory: \t PersonType \nSubCategory: \t None \nConfidence Score: \t 0.8 \nLength: \t 21 \nOffset: \t 494 \n\nText: \t Shirine Khoury-Haq \nCategory: \t Person \nSubCategory: \t None \nConfidence Score: \t 1.0 \nLength: \t 18 \nOffset: \t 521 \n\nText: \t CEO \nCategory: \t PersonType \nSubCategory: \t None \nConfidence Score: \t 0.92 \nLength: \t 3 \nOffset: \t 541 \n\nText: \t Moni Mannings \nCategory: \t Person \nSubCategory: \t None \nConfidence Score: \t 1.0 \nLength: \t 13 \nOffset: \t 547 \n\nText: \t Senior Independent Director \nCategory: \t PersonType \nSubCategory: \t None \nConfidence Score: \t 0.85 \nLength: \t 27 \nOffset: \t 575 \n\nText: \t Debbie White \nCategory: \t Person \nSubCategory: \t None \nConfidence Score: \t 1.0 \nLength: \t 12 \nOffset: \t 608 \n\nText: \t Chair \nCategory: \t PersonType \nSubCategory: \t None \nConfidence Score: \t 0.79 \nLength: \t 5 \nOffset: \t 628 \n\nText: \t Co-op \nCategory: \t Organization \nSubCategory: \t None \nConfidence Score: \t 0.86 \nLength: \t 5 \nOffset: \t 707 \n\nText: \t Shirine Khoury-Haq \nCategory: \t Person \nSubCategory: \t None \nConfidence Score: \t 1.0 \nLength: \t 18 \nOffset: \t 733 \n\nText: \t CEO \nCategory: \t PersonType \nSubCategory: \t None \nConfidence Score: \t 0.93 \nLength: \t 3 \nOffset: \t 759 \n\nText: \t Rachel Izzard \nCategory: \t Person \nSubCategory: \t None \nConfidence Score: \t 1.0 \nLength: \t 13 \nOffset: \t 764 \n\nText: \t Chief Finance Officer \nCategory: \t PersonType \nSubCategory: \t None \nConfidence Score: \t 0.89 \nLength: \t 21 \nOffset: \t 785 \n\nText: \t Dominic Kendal-Ward \nCategory: \t Person \nSubCategory: \t None \nConfidence Score: \t 1.0 \nLength: \t 19 \nOffset: \t 812 \n\nText: \t Group Secretary \nCategory: \t PersonType \nSubCategory: \t None \nConfidence Score: \t 0.86 \nLength: \t 15 \nOffset: \t 839 \n\nText: \t General Counsel \nCategory: \t PersonType \nSubCategory: \t None \nConfidence Score: \t 0.81 \nLength: \t 15 \nOffset: \t 859 \n\nText: \t Executive Directors \nCategory: \t PersonType \nSubCategory: \t None \nConfidence Score: \t 0.86 \nLength: \t 19 \nOffset: \t 877 \n\nText: \t employees \nCategory: \t PersonType \nSubCategory: \t None \nConfidence Score: \t 0.53 \nLength: \t 9 \nOffset: \t 912 \n\nText: \t daily \nCategory: \t DateTime \nSubCategory: \t Set \nConfidence Score: \t 0.92 \nLength: \t 5 \nOffset: \t 930 \n\nText: \t business \nCategory: \t Skill \nSubCategory: \t None \nConfidence Score: \t 0.87 \nLength: \t 8 \nOffset: \t 936 \n\nText: \t members \nCategory: \t PersonType \nSubCategory: \t None \nConfidence Score: \t 0.81 \nLength: \t 7 \nOffset: \t 987 \n\nText: \t first \nCategory: \t Quantity \nSubCategory: \t Ordinal \nConfidence Score: \t 0.98 \nLength: \t 5 \nOffset: \t 1002 \n\nText: \t Annual General Meeting \nCategory: \t Event \nSubCategory: \t None \nConfidence Score: \t 0.62 \nLength: \t 22 \nOffset: \t 1008 \n\nText: \t every three years \nCategory: \t DateTime \nSubCategory: \t Set \nConfidence Score: \t 0.97 \nLength: \t 17 \nOffset: \t 1069 \n\nText: \t INEDs \nCategory: \t Organization \nSubCategory: \t None \nConfidence Score: \t 0.61 \nLength: \t 5 \nOffset: \t 1099 \n\nText: \t employees \nCategory: \t PersonType \nSubCategory: \t None \nConfidence Score: \t 0.58 \nLength: \t 9 \nOffset: \t 1124 \n\nText: \t member \nCategory: \t PersonType \nSubCategory: \t None \nConfidence Score: \t 0.83 \nLength: \t 6 \nOffset: \t 1198 \n\nText: \t first \nCategory: \t Quantity \nSubCategory: \t Ordinal \nConfidence Score: \t 0.94 \nLength: \t 5 \nOffset: \t 1239 \n\nText: \t AGM \nCategory: \t Organization \nSubCategory: \t None \nConfidence Score: \t 0.5 \nLength: \t 3 \nOffset: \t 1245 \n\nText: \t MNDs \nCategory: \t PersonType \nSubCategory: \t None \nConfidence Score: \t 0.55 \nLength: \t 4 \nOffset: \t 1274 \n\nText: \t members \nCategory: \t PersonType \nSubCategory: \t None \nConfidence Score: \t 0.95 \nLength: \t 7 \nOffset: \t 1303 \n\nText: \t three-year \nCategory: \t DateTime \nSubCategory: \t Duration \nConfidence Score: \t 0.99 \nLength: \t 10 \nOffset: \t 1374 \n\n"
        }
      ],
      "execution_count": 13,
      "metadata": {
        "gather": {
          "logged": 1727185376166
        },
        "jupyter": {
          "outputs_hidden": false,
          "source_hidden": false
        },
        "nteract": {
          "transient": {
            "deleting": false
          }
        }
      }
    },
    {
      "cell_type": "markdown",
      "source": [
        "#### PII Detection\n",
        "Try replacing the text you give the detector to give different results. \n"
      ],
      "metadata": {
        "nteract": {
          "transient": {
            "deleting": false
          }
        }
      }
    },
    {
      "cell_type": "code",
      "source": [
        "documents = [\n",
        "        \"The employee's SSN is 859-98-0987.\",\n",
        "        \"The employee's phone number is 555-555-5555.\",\n",
        "        \"The Admiralty's first Hydrographer was Alexander Dalrymple, appointed in 1795 on the order of King George III\"\n",
        "    ]\n",
        "response = client.recognize_pii_entities(documents, language=\"en\")\n",
        "result = [doc for doc in response if not doc.is_error]\n",
        "for doc in result:\n",
        "    print(\"Redacted Text: {}\".format(doc.redacted_text))\n",
        "    for entity in doc.entities:\n",
        "        print(\"Entity: {}\".format(entity.text))\n",
        "        print(\"\\tCategory: {}\".format(entity.category))\n",
        "        print(\"\\tConfidence Score: {}\".format(entity.confidence_score))\n",
        "        print(\"\\tOffset: {}\".format(entity.offset))\n",
        "        print(\"\\tLength: {}\".format(entity.length))\n"
      ],
      "outputs": [
        {
          "output_type": "stream",
          "name": "stdout",
          "text": "Redacted Text: The ********'s SSN is ***********.\nEntity: employee\n\tCategory: PersonType\n\tConfidence Score: 0.99\n\tOffset: 4\n\tLength: 8\nEntity: 859-98-0987\n\tCategory: USSocialSecurityNumber\n\tConfidence Score: 0.85\n\tOffset: 22\n\tLength: 11\nRedacted Text: The ********'s phone number is ************.\nEntity: employee\n\tCategory: PersonType\n\tConfidence Score: 0.99\n\tOffset: 4\n\tLength: 8\nEntity: 555-555-5555\n\tCategory: PhoneNumber\n\tConfidence Score: 0.8\n\tOffset: 31\n\tLength: 12\nRedacted Text: The *********'s first ************ was *******************, appointed in 1795 on the order of King **********\nEntity: Admiralty\n\tCategory: Organization\n\tConfidence Score: 0.89\n\tOffset: 4\n\tLength: 9\nEntity: Hydrographer\n\tCategory: PersonType\n\tConfidence Score: 0.88\n\tOffset: 22\n\tLength: 12\nEntity: Alexander Dalrymple\n\tCategory: Person\n\tConfidence Score: 1.0\n\tOffset: 39\n\tLength: 19\nEntity: George III\n\tCategory: Person\n\tConfidence Score: 0.91\n\tOffset: 99\n\tLength: 10\n"
        }
      ],
      "execution_count": 9,
      "metadata": {
        "gather": {
          "logged": 1726564624857
        },
        "jupyter": {
          "outputs_hidden": false,
          "source_hidden": false
        },
        "nteract": {
          "transient": {
            "deleting": false
          }
        }
      }
    }
  ],
  "metadata": {
    "kernel_info": {
      "name": "python38-azureml"
    },
    "kernelspec": {
      "name": "python38-azureml",
      "language": "python",
      "display_name": "Python 3.8 - AzureML"
    },
    "microsoft": {
      "host": {
        "AzureML": {
          "notebookHasBeenCompleted": true
        }
      },
      "ms_spell_check": {
        "ms_spell_check_language": "en"
      }
    },
    "nteract": {
      "version": "nteract-front-end@1.0.0"
    },
    "language_info": {
      "name": "python",
      "version": "3.9.19",
      "mimetype": "text/x-python",
      "codemirror_mode": {
        "name": "ipython",
        "version": 3
      },
      "pygments_lexer": "ipython3",
      "nbconvert_exporter": "python",
      "file_extension": ".py"
    }
  },
  "nbformat": 4,
  "nbformat_minor": 2
}