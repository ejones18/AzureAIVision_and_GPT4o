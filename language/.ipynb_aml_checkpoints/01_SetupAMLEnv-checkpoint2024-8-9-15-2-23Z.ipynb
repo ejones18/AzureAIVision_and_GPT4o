{
  "cells": [
    {
      "cell_type": "markdown",
      "metadata": {
        "nteract": {
          "transient": {
            "deleting": false
          }
        }
      },
      "source": [
        "## Set up\n",
        "- Create AML workspace [Instructions](https://learn.microsoft.com/en-us/azure/machine-learning/quickstart-create-resources?view=azureml-api-2#create-the-workspace)\n",
        "- Create Compute [Instructions](https://learn.microsoft.com/en-us/azure/machine-learning/quickstart-create-resources?view=azureml-api-2#create-a-compute-instance)\n",
        "\n",
        "Open **terminal** in your new user  folder\n",
        "```\n",
        "git clone https://github.com/arun13go/azure-ai-services-chat-with-your-data-hands-on.git\n",
        "```\n",
        "\n",
        "Try running the code cell below. It will fail as you dont have the right python packages installed.\n",
        "\n",
        "Create a python environment and make it usable by Notebooks\n",
        "```\n",
        "cd azure-ai-services-chat-with-your-data-hands-on/Day2/Hands-on\n",
        "conda create --name openai_env_upskilling python=3.10  \n",
        "conda activate openai_env_upskilling\n",
        "pip install ipykernel\n",
        "python -m ipykernel install --user --name openai_env_upskilling --display-name \"Python openai_env_upskilling\"\n",
        "pip install -r requirements.txt  \n",
        "```\n",
        "  \n",
        "Refresh Kernel List.  (Top right)\n",
        "Choose kernel: Python openai_env_upskilling\n"
      ]
    },
    {
      "cell_type": "markdown",
      "metadata": {
        "nteract": {
          "transient": {
            "deleting": false
          }
        }
      },
      "source": [
        "The code below checks that you have created the conda environment correctly."
      ]
    },
    {
      "cell_type": "code",
      "execution_count": 1,
      "metadata": {
        "gather": {
          "logged": 1723754127905
        }
      },
      "outputs": [
        {
          "name": "stdout",
          "output_type": "stream",
          "text": [
            "Python is 👍\n"
          ]
        }
      ],
      "source": [
        "import emoji\n",
        "print(emoji.emojize('Python is :thumbs_up:'))"
      ]
    }
  ],
  "metadata": {
    "kernel_info": {
      "name": "openai_env_upskilling"
    },
    "kernelspec": {
      "display_name": "Python openai_env_upskilling",
      "language": "python",
      "name": "openai_env_upskilling"
    },
    "language_info": {
      "codemirror_mode": {
        "name": "ipython",
        "version": 3
      },
      "file_extension": ".py",
      "mimetype": "text/x-python",
      "name": "python",
      "nbconvert_exporter": "python",
      "pygments_lexer": "ipython3",
      "version": "3.10.14"
    },
    "microsoft": {
      "host": {
        "AzureML": {
          "notebookHasBeenCompleted": true
        }
      },
      "ms_spell_check": {
        "ms_spell_check_language": "en"
      }
    },
    "nteract": {
      "version": "nteract-front-end@1.0.0"
    }
  },
  "nbformat": 4,
  "nbformat_minor": 2
}
