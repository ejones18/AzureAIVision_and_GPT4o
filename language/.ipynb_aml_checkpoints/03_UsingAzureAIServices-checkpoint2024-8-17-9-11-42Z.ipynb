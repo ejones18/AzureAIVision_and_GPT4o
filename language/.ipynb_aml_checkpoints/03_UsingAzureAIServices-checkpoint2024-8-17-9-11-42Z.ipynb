{
  "cells": [
    {
      "cell_type": "markdown",
      "metadata": {
        "nteract": {
          "transient": {
            "deleting": false
          }
        }
      },
      "source": [
        "## Use the Azure AI Language Service\n",
        "First make sure you have created an AML environment and jupyter kernel as in Notebook 1.\n",
        "\n",
        "Test that you have selected the correct code by running the cell below."
      ]
    },
    {
      "cell_type": "code",
      "execution_count": 1,
      "metadata": {
        "gather": {
          "logged": 1724792878587
        }
      },
      "outputs": [
        {
          "name": "stdout",
          "output_type": "stream",
          "text": [
            "Python is 👍\n"
          ]
        }
      ],
      "source": [
        "import emoji\n",
        "print(emoji.emojize('Python is :thumbs_up:'))"
      ]
    },
    {
      "cell_type": "markdown",
      "metadata": {},
      "source": [
        "- Create Azure AI Language Resource \n",
        "- Rename credentials_template.env to credentials.env (if not already)\n",
        "- Fill in the endpoint and key in credentials.env \n",
        "[Detailed Instructions](https://learn.microsoft.com/en-us/azure/ai-services/language-service/language-detection/quickstart?tabs=windows&pivots=programming-language-python)"
      ]
    },
    {
      "cell_type": "code",
      "execution_count": 2,
      "metadata": {
        "gather": {
          "logged": 1724792880194
        }
      },
      "outputs": [],
      "source": [
        "# Loads in environement varaibles from credentials.env. \n",
        "# Note that if you change the contents of credentials.env you will need to restart your python kernel as well as rerun this cell.\n",
        "import os\n",
        "from azure.ai.textanalytics import TextAnalyticsClient\n",
        "from azure.core.credentials import AzureKeyCredential\n",
        "from dotenv import load_dotenv\n",
        "load_dotenv(\"credentials.env\")\n",
        "\n",
        "endpoint = os.environ.get(\"AZURE_LANGUAGE_ENDPOINT\")\n",
        "api_key = os.environ.get(\"AZURE_LANGUAGE_KEY\")\n",
        "\n",
        "\n"
      ]
    },
    {
      "cell_type": "code",
      "execution_count": 3,
      "metadata": {
        "gather": {
          "logged": 1724792882095
        }
      },
      "outputs": [
        {
          "name": "stdout",
          "output_type": "stream",
          "text": [
            "Endpoint:  https://language-universal.cognitiveservices.azure.com/\n",
            "API Key:  e32b23196e584dd08162fd25c7230e0d\n"
          ]
        }
      ],
      "source": [
        "print(\"Endpoint: \", endpoint)\n",
        "print(\"API Key: \", api_key)"
      ]
    },
    {
      "cell_type": "code",
      "execution_count": 6,
      "metadata": {
        "gather": {
          "logged": 1724792907546
        }
      },
      "outputs": [],
      "source": [
        "# Create credentials and Language Client (note this was previously called text analytics)\n",
        "\n",
        "credential = AzureKeyCredential(api_key)\n",
        "client = TextAnalyticsClient(endpoint=endpoint, credential=credential)"
      ]
    },
    {
      "cell_type": "markdown",
      "metadata": {
        "nteract": {
          "transient": {
            "deleting": false
          }
        }
      },
      "source": [
        "#### Language Detection\n",
        "\n",
        "Try replacing the text you give the detector to give different results."
      ]
    },
    {
      "cell_type": "code",
      "execution_count": 7,
      "metadata": {
        "gather": {
          "logged": 1724792909806
        }
      },
      "outputs": [
        {
          "name": "stdout",
          "output_type": "stream",
          "text": [
            "Language:  French\n"
          ]
        }
      ],
      "source": [
        "\n",
        "documents = [\"Ce document est rédigé en Français.\"]\n",
        "\n",
        "\n",
        "response = client.detect_language(documents = documents, country_hint = 'us')[0]\n",
        "print(\"Language: \", response.primary_language.name)"
      ]
    },
    {
      "cell_type": "markdown",
      "metadata": {
        "nteract": {
          "transient": {
            "deleting": false
          }
        }
      },
      "source": [
        "#### Sentiment Analysis\n",
        "\n",
        "Try replacing the text you give the detector to give different results. "
      ]
    },
    {
      "cell_type": "code",
      "execution_count": 13,
      "metadata": {
        "gather": {
          "logged": 1724793989635
        },
        "jupyter": {
          "outputs_hidden": false,
          "source_hidden": false
        },
        "nteract": {
          "transient": {
            "deleting": false
          }
        }
      },
      "outputs": [
        {
          "name": "stdout",
          "output_type": "stream",
          "text": [
            "Document Sentiment: mixed\n",
            "Overall scores: positive=0.30; neutral=0.17; negative=0.52 \n",
            "\n",
            "Document Sentiment: negative\n",
            "Overall scores: positive=0.00; neutral=0.00; negative=1.00 \n",
            "\n",
            "Document Sentiment: positive\n",
            "Overall scores: positive=1.00; neutral=0.00; negative=0.00 \n",
            "\n"
          ]
        }
      ],
      "source": [
        "documents = [\n",
        "    \"The food and service were unacceptable. The concierge was nice, however.\",\n",
        "    \"It was a pretty place but evening was terrible, I got food poisoning and had to go to hospital\",\n",
        "    \"Lovely little place, would go again\"\n",
        "]\n",
        "\n",
        "result = client.analyze_sentiment(documents, show_opinion_mining=True)\n",
        "doc_result = [doc for doc in result if not doc.is_error]\n",
        "\n",
        "\n",
        "for document in doc_result:\n",
        "    print(\"Document Sentiment: {}\".format(document.sentiment))\n",
        "    print(\"Overall scores: positive={0:.2f}; neutral={1:.2f}; negative={2:.2f} \\n\".format(\n",
        "        document.confidence_scores.positive,\n",
        "        document.confidence_scores.neutral,\n",
        "        document.confidence_scores.negative,\n",
        "        ))"
      ]
    },
    {
      "cell_type": "markdown",
      "metadata": {
        "nteract": {
          "transient": {
            "deleting": false
          }
        }
      },
      "source": [
        "#### Named Entity Extraction\n",
        "\n",
        "Try replacing the text you give the detector to give different results. \n"
      ]
    },
    {
      "cell_type": "code",
      "execution_count": 18,
      "metadata": {
        "gather": {
          "logged": 1724794426690
        },
        "jupyter": {
          "outputs_hidden": false,
          "source_hidden": false
        },
        "nteract": {
          "transient": {
            "deleting": false
          }
        }
      },
      "outputs": [
        {
          "name": "stdout",
          "output_type": "stream",
          "text": [
            "Named Entities:\n",
            "\n",
            "Text: \t first \n",
            "Category: \t Quantity \n",
            "SubCategory: \t Ordinal \n",
            "Confidence Score: \t 0.96 \n",
            "Length: \t 5 \n",
            "Offset: \t 16 \n",
            "\n",
            "Text: \t Hydrographer \n",
            "Category: \t PersonType \n",
            "SubCategory: \t None \n",
            "Confidence Score: \t 0.94 \n",
            "Length: \t 12 \n",
            "Offset: \t 22 \n",
            "\n",
            "Text: \t Alexander Dalrymple \n",
            "Category: \t Person \n",
            "SubCategory: \t None \n",
            "Confidence Score: \t 1.0 \n",
            "Length: \t 19 \n",
            "Offset: \t 39 \n",
            "\n",
            "Text: \t 3 \n",
            "Category: \t Quantity \n",
            "SubCategory: \t Number \n",
            "Confidence Score: \t 0.8 \n",
            "Length: \t 1 \n",
            "Offset: \t 60 \n",
            "\n",
            "Text: \t 1795 \n",
            "Category: \t DateTime \n",
            "SubCategory: \t DateRange \n",
            "Confidence Score: \t 1.0 \n",
            "Length: \t 4 \n",
            "Offset: \t 76 \n",
            "\n",
            "Text: \t George III \n",
            "Category: \t Person \n",
            "SubCategory: \t None \n",
            "Confidence Score: \t 0.84 \n",
            "Length: \t 10 \n",
            "Offset: \t 102 \n",
            "\n",
            "Text: \t first \n",
            "Category: \t Quantity \n",
            "SubCategory: \t Ordinal \n",
            "Confidence Score: \t 0.97 \n",
            "Length: \t 5 \n",
            "Offset: \t 179 \n",
            "\n",
            "Text: \t Dalrymple \n",
            "Category: \t Person \n",
            "SubCategory: \t None \n",
            "Confidence Score: \t 1.0 \n",
            "Length: \t 9 \n",
            "Offset: \t 191 \n",
            "\n",
            "Text: \t Hydrographer \n",
            "Category: \t PersonType \n",
            "SubCategory: \t None \n",
            "Confidence Score: \t 0.54 \n",
            "Length: \t 12 \n",
            "Offset: \t 214 \n",
            "\n",
            "Text: \t Quiberon Bay \n",
            "Category: \t Location \n",
            "SubCategory: \t None \n",
            "Confidence Score: \t 1.0 \n",
            "Length: \t 12 \n",
            "Offset: \t 248 \n",
            "\n",
            "Text: \t Brittany \n",
            "Category: \t Location \n",
            "SubCategory: \t GPE \n",
            "Confidence Score: \t 0.88 \n",
            "Length: \t 8 \n",
            "Offset: \t 264 \n",
            "\n",
            "Text: \t until 1800 \n",
            "Category: \t DateTime \n",
            "SubCategory: \t DateRange \n",
            "Confidence Score: \t 1.0 \n",
            "Length: \t 10 \n",
            "Offset: \t 289 \n",
            "\n",
            "Text: \t 4 \n",
            "Category: \t Quantity \n",
            "SubCategory: \t Number \n",
            "Confidence Score: \t 0.8 \n",
            "Length: \t 1 \n",
            "Offset: \t 301 \n",
            "\n"
          ]
        }
      ],
      "source": [
        "documents = [\"\"\"The Admiralty's first Hydrographer was Alexander Dalrymple, appointed in 1795 on the order of King George III and the existing charts were brought together and catalogued. The first chart Dalrymple published as Hydrographer to the Admiralty (of Quiberon Bay in Brittany) did not appear until 1800. He also issued Sailing Directions and Notices to Mariners (NMs)\n",
        "\"\"\"]\n",
        "result = client.recognize_entities(documents = documents)[0]\n",
        "\n",
        "print(\"Named Entities:\\n\")\n",
        "for entity in result.entities:\n",
        "    print(\"Text: \\t\", entity.text, \"\\nCategory: \\t\", entity.category, \"\\nSubCategory: \\t\", entity.subcategory,\n",
        "            \"\\nConfidence Score: \\t\", round(entity.confidence_score, 2), \"\\nLength: \\t\", entity.length, \"\\nOffset: \\t\", entity.offset, \"\\n\")\n"
      ]
    },
    {
      "cell_type": "markdown",
      "metadata": {
        "nteract": {
          "transient": {
            "deleting": false
          }
        }
      },
      "source": [
        "#### PII Detection\n",
        "Try replacing the text you give the detector to give different results. \n"
      ]
    },
    {
      "cell_type": "code",
      "execution_count": 23,
      "metadata": {
        "gather": {
          "logged": 1724794665736
        },
        "jupyter": {
          "outputs_hidden": false,
          "source_hidden": false
        },
        "nteract": {
          "transient": {
            "deleting": false
          }
        }
      },
      "outputs": [
        {
          "name": "stdout",
          "output_type": "stream",
          "text": [
            "Redacted Text: The ********'s SSN is ***********.\n",
            "Entity: employee\n",
            "\tCategory: PersonType\n",
            "\tConfidence Score: 0.99\n",
            "\tOffset: 4\n",
            "\tLength: 8\n",
            "Entity: 859-98-0987\n",
            "\tCategory: USSocialSecurityNumber\n",
            "\tConfidence Score: 0.85\n",
            "\tOffset: 22\n",
            "\tLength: 11\n",
            "Redacted Text: The ********'s phone number is ************.\n",
            "Entity: employee\n",
            "\tCategory: PersonType\n",
            "\tConfidence Score: 0.99\n",
            "\tOffset: 4\n",
            "\tLength: 8\n",
            "Entity: 555-555-5555\n",
            "\tCategory: PhoneNumber\n",
            "\tConfidence Score: 0.8\n",
            "\tOffset: 31\n",
            "\tLength: 12\n",
            "Redacted Text: The Admiralty's first ************ was *******************,[3] appointed in 1795 on the order of King **********\n",
            "Entity: Hydrographer\n",
            "\tCategory: PersonType\n",
            "\tConfidence Score: 0.96\n",
            "\tOffset: 22\n",
            "\tLength: 12\n",
            "Entity: Alexander Dalrymple\n",
            "\tCategory: Person\n",
            "\tConfidence Score: 1.0\n",
            "\tOffset: 39\n",
            "\tLength: 19\n",
            "Entity: George III\n",
            "\tCategory: Person\n",
            "\tConfidence Score: 0.9\n",
            "\tOffset: 102\n",
            "\tLength: 10\n"
          ]
        }
      ],
      "source": [
        "documents = [\n",
        "        \"The employee's SSN is 859-98-0987.\",\n",
        "        \"The employee's phone number is 555-555-5555.\",\n",
        "        \"The Admiralty's first Hydrographer was Alexander Dalrymple, appointed in 1795 on the order of King George III\"\n",
        "    ]\n",
        "response = client.recognize_pii_entities(documents, language=\"en\")\n",
        "result = [doc for doc in response if not doc.is_error]\n",
        "for doc in result:\n",
        "    print(\"Redacted Text: {}\".format(doc.redacted_text))\n",
        "    for entity in doc.entities:\n",
        "        print(\"Entity: {}\".format(entity.text))\n",
        "        print(\"\\tCategory: {}\".format(entity.category))\n",
        "        print(\"\\tConfidence Score: {}\".format(entity.confidence_score))\n",
        "        print(\"\\tOffset: {}\".format(entity.offset))\n",
        "        print(\"\\tLength: {}\".format(entity.length))\n"
      ]
    }
  ],
  "metadata": {
    "kernel_info": {
      "name": "openai_env_upskilling"
    },
    "kernelspec": {
      "display_name": "Python openai_env_upskilling",
      "language": "python",
      "name": "openai_env_upskilling"
    },
    "microsoft": {
      "host": {
        "AzureML": {
          "notebookHasBeenCompleted": true
        }
      },
      "ms_spell_check": {
        "ms_spell_check_language": "en"
      }
    },
    "nteract": {
      "version": "nteract-front-end@1.0.0"
    }
  },
  "nbformat": 4,
  "nbformat_minor": 2
}
